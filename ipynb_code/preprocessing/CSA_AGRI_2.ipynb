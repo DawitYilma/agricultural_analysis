{
 "cells": [
  {
   "cell_type": "markdown",
   "metadata": {},
   "source": [
    "# In this note book we will select the most important features to put in our machine learnin model"
   ]
  },
  {
   "cell_type": "code",
   "execution_count": null,
   "metadata": {},
   "outputs": [],
   "source": [
    "import pandas as pd\n",
    "import numpy as np"
   ]
  },
  {
   "cell_type": "markdown",
   "metadata": {},
   "source": [
    "Here we will load our Central statstics agency dataset"
   ]
  },
  {
   "cell_type": "code",
   "execution_count": 2,
   "metadata": {},
   "outputs": [],
   "source": [
    "year1996 = pd.read_csv(\"C:/Users/hp/CSA_AGRI_DATA/csa_data_version1/field_info1_1996.csv\")"
   ]
  },
  {
   "cell_type": "code",
   "execution_count": 3,
   "metadata": {},
   "outputs": [
    {
     "name": "stderr",
     "output_type": "stream",
     "text": [
      "C:\\Users\\hp\\Anaconda3\\lib\\site-packages\\IPython\\core\\interactiveshell.py:3057: DtypeWarning: Columns (3) have mixed types. Specify dtype option on import or set low_memory=False.\n",
      "  interactivity=interactivity, compiler=compiler, result=result)\n"
     ]
    }
   ],
   "source": [
    "year1997 = pd.read_csv(\"C:/Users/hp/CSA_AGRI_DATA/csa_data_version1/field_info1_1997.csv\")"
   ]
  },
  {
   "cell_type": "code",
   "execution_count": 4,
   "metadata": {},
   "outputs": [],
   "source": [
    "year1998 = pd.read_csv(\"C:/Users/hp/CSA_AGRI_DATA/csa_data_version1/field_info1_1998.csv\")"
   ]
  },
  {
   "cell_type": "code",
   "execution_count": 5,
   "metadata": {},
   "outputs": [
    {
     "name": "stderr",
     "output_type": "stream",
     "text": [
      "C:\\Users\\hp\\Anaconda3\\lib\\site-packages\\IPython\\core\\interactiveshell.py:3057: DtypeWarning: Columns (17,20) have mixed types. Specify dtype option on import or set low_memory=False.\n",
      "  interactivity=interactivity, compiler=compiler, result=result)\n"
     ]
    }
   ],
   "source": [
    "year1999 = pd.read_csv(\"C:/Users/hp/CSA_AGRI_DATA/csa_data_version1/field_info1_1999.csv\")"
   ]
  },
  {
   "cell_type": "code",
   "execution_count": 6,
   "metadata": {},
   "outputs": [
    {
     "name": "stderr",
     "output_type": "stream",
     "text": [
      "C:\\Users\\hp\\Anaconda3\\lib\\site-packages\\IPython\\core\\interactiveshell.py:3057: DtypeWarning: Columns (20) have mixed types. Specify dtype option on import or set low_memory=False.\n",
      "  interactivity=interactivity, compiler=compiler, result=result)\n"
     ]
    }
   ],
   "source": [
    "year2000 = pd.read_csv(\"C:/Users/hp/CSA_AGRI_DATA/csa_data_version1/field_info1_2000.csv\")"
   ]
  },
  {
   "cell_type": "code",
   "execution_count": 24,
   "metadata": {},
   "outputs": [],
   "source": [
    "year2001 = pd.read_csv(\"C:/Users/hp/CSA_AGRI_DATA/csa_data_version1/field_info1_2001.csv\")"
   ]
  },
  {
   "cell_type": "code",
   "execution_count": 25,
   "metadata": {},
   "outputs": [],
   "source": [
    "year2002 = pd.read_csv(\"C:/Users/hp/CSA_AGRI_DATA/csa_data_version1/field_info1_2002.csv\")"
   ]
  },
  {
   "cell_type": "code",
   "execution_count": 26,
   "metadata": {},
   "outputs": [],
   "source": [
    "year2003 = pd.read_csv(\"C:/Users/hp/CSA_AGRI_DATA/csa_data_version1/field_info1_2003.csv\")"
   ]
  },
  {
   "cell_type": "code",
   "execution_count": 8,
   "metadata": {},
   "outputs": [],
   "source": [
    "year2004 = pd.read_csv(\"C:/Users/hp/CSA_AGRI_DATA/csa_data_version1/field_info1_2004.csv\")"
   ]
  },
  {
   "cell_type": "code",
   "execution_count": 11,
   "metadata": {},
   "outputs": [
    {
     "name": "stderr",
     "output_type": "stream",
     "text": [
      "C:\\Users\\hp\\Anaconda3\\lib\\site-packages\\IPython\\core\\interactiveshell.py:3057: DtypeWarning: Columns (13,21) have mixed types. Specify dtype option on import or set low_memory=False.\n",
      "  interactivity=interactivity, compiler=compiler, result=result)\n"
     ]
    }
   ],
   "source": [
    "year2005 = pd.read_csv(\"C:/Users/hp/CSA_AGRI_DATA/csa_data_version1/field_info1_2005.csv\")"
   ]
  },
  {
   "cell_type": "code",
   "execution_count": 12,
   "metadata": {},
   "outputs": [
    {
     "name": "stderr",
     "output_type": "stream",
     "text": [
      "C:\\Users\\hp\\Anaconda3\\lib\\site-packages\\IPython\\core\\interactiveshell.py:3057: DtypeWarning: Columns (13,20,21) have mixed types. Specify dtype option on import or set low_memory=False.\n",
      "  interactivity=interactivity, compiler=compiler, result=result)\n"
     ]
    }
   ],
   "source": [
    "year2006 = pd.read_csv(\"C:/Users/hp/CSA_AGRI_DATA/csa_data_version1/field_info1_2006.csv\")"
   ]
  },
  {
   "cell_type": "code",
   "execution_count": 13,
   "metadata": {},
   "outputs": [],
   "source": [
    "year2007 = pd.read_csv(\"C:/Users/hp/CSA_AGRI_DATA/csa_data_version1/field_info1_2007.csv\")"
   ]
  },
  {
   "cell_type": "code",
   "execution_count": 14,
   "metadata": {},
   "outputs": [],
   "source": [
    "year2008 = pd.read_csv(\"C:/Users/hp/CSA_AGRI_DATA/csa_data_version1/field_info1_2008.csv\")"
   ]
  },
  {
   "cell_type": "code",
   "execution_count": 15,
   "metadata": {},
   "outputs": [
    {
     "name": "stderr",
     "output_type": "stream",
     "text": [
      "C:\\Users\\hp\\Anaconda3\\lib\\site-packages\\IPython\\core\\interactiveshell.py:3057: DtypeWarning: Columns (13,20) have mixed types. Specify dtype option on import or set low_memory=False.\n",
      "  interactivity=interactivity, compiler=compiler, result=result)\n"
     ]
    }
   ],
   "source": [
    "year2009 = pd.read_csv(\"C:/Users/hp/CSA_AGRI_DATA/csa_data_version1/field_info1_2009.csv\")"
   ]
  },
  {
   "cell_type": "code",
   "execution_count": 16,
   "metadata": {},
   "outputs": [],
   "source": [
    "year2010 = pd.read_csv(\"C:/Users/hp/CSA_AGRI_DATA/csa_data_version1/field_info1_2010.csv\")"
   ]
  },
  {
   "cell_type": "code",
   "execution_count": 17,
   "metadata": {},
   "outputs": [
    {
     "name": "stderr",
     "output_type": "stream",
     "text": [
      "C:\\Users\\hp\\Anaconda3\\lib\\site-packages\\IPython\\core\\interactiveshell.py:3057: DtypeWarning: Columns (13) have mixed types. Specify dtype option on import or set low_memory=False.\n",
      "  interactivity=interactivity, compiler=compiler, result=result)\n"
     ]
    }
   ],
   "source": [
    "year2011 = pd.read_csv(\"C:/Users/hp/CSA_AGRI_DATA/csa_data_version1/field_info1_2011.csv\")"
   ]
  },
  {
   "cell_type": "code",
   "execution_count": 18,
   "metadata": {},
   "outputs": [
    {
     "name": "stderr",
     "output_type": "stream",
     "text": [
      "C:\\Users\\hp\\Anaconda3\\lib\\site-packages\\IPython\\core\\interactiveshell.py:3057: DtypeWarning: Columns (17,19) have mixed types. Specify dtype option on import or set low_memory=False.\n",
      "  interactivity=interactivity, compiler=compiler, result=result)\n"
     ]
    }
   ],
   "source": [
    "year2012 = pd.read_csv(\"C:/Users/hp/CSA_AGRI_DATA/csa_data_version1/field_info1_2012.csv\")"
   ]
  },
  {
   "cell_type": "code",
   "execution_count": 9,
   "metadata": {},
   "outputs": [
    {
     "data": {
      "text/html": [
       "<div>\n",
       "<style scoped>\n",
       "    .dataframe tbody tr th:only-of-type {\n",
       "        vertical-align: middle;\n",
       "    }\n",
       "\n",
       "    .dataframe tbody tr th {\n",
       "        vertical-align: top;\n",
       "    }\n",
       "\n",
       "    .dataframe thead th {\n",
       "        text-align: right;\n",
       "    }\n",
       "</style>\n",
       "<table border=\"1\" class=\"dataframe\">\n",
       "  <thead>\n",
       "    <tr style=\"text-align: right;\">\n",
       "      <th></th>\n",
       "      <th>REG</th>\n",
       "      <th>ZONE</th>\n",
       "      <th>FWEIGHT</th>\n",
       "      <th>CROP</th>\n",
       "      <th>IRRG</th>\n",
       "      <th>TREES</th>\n",
       "      <th>SEEDTYPE</th>\n",
       "      <th>DAMAGE</th>\n",
       "      <th>DREASON</th>\n",
       "      <th>DPERCENT</th>\n",
       "      <th>...</th>\n",
       "      <th>DMCHEM</th>\n",
       "      <th>FERT</th>\n",
       "      <th>FERTTYPE</th>\n",
       "      <th>D22A</th>\n",
       "      <th>D23</th>\n",
       "      <th>APERCENT</th>\n",
       "      <th>AREB</th>\n",
       "      <th>ENUMAREA</th>\n",
       "      <th>COMPAREA</th>\n",
       "      <th>PRODUCT</th>\n",
       "    </tr>\n",
       "  </thead>\n",
       "  <tbody>\n",
       "    <tr>\n",
       "      <th>0</th>\n",
       "      <td>1</td>\n",
       "      <td>1</td>\n",
       "      <td>259.63</td>\n",
       "      <td>99</td>\n",
       "      <td></td>\n",
       "      <td></td>\n",
       "      <td></td>\n",
       "      <td></td>\n",
       "      <td></td>\n",
       "      <td></td>\n",
       "      <td>...</td>\n",
       "      <td></td>\n",
       "      <td>2</td>\n",
       "      <td></td>\n",
       "      <td></td>\n",
       "      <td></td>\n",
       "      <td>100</td>\n",
       "      <td>5402</td>\n",
       "      <td>54.02</td>\n",
       "      <td>54.02</td>\n",
       "      <td></td>\n",
       "    </tr>\n",
       "    <tr>\n",
       "      <th>1</th>\n",
       "      <td>1</td>\n",
       "      <td>1</td>\n",
       "      <td>259.63</td>\n",
       "      <td>2</td>\n",
       "      <td>2</td>\n",
       "      <td></td>\n",
       "      <td>2</td>\n",
       "      <td>2</td>\n",
       "      <td></td>\n",
       "      <td></td>\n",
       "      <td>...</td>\n",
       "      <td></td>\n",
       "      <td>2</td>\n",
       "      <td></td>\n",
       "      <td></td>\n",
       "      <td></td>\n",
       "      <td>100</td>\n",
       "      <td>5027</td>\n",
       "      <td>50.27</td>\n",
       "      <td>50.27</td>\n",
       "      <td>7641</td>\n",
       "    </tr>\n",
       "    <tr>\n",
       "      <th>2</th>\n",
       "      <td>1</td>\n",
       "      <td>1</td>\n",
       "      <td>259.63</td>\n",
       "      <td>99</td>\n",
       "      <td></td>\n",
       "      <td></td>\n",
       "      <td></td>\n",
       "      <td></td>\n",
       "      <td></td>\n",
       "      <td></td>\n",
       "      <td>...</td>\n",
       "      <td></td>\n",
       "      <td>2</td>\n",
       "      <td></td>\n",
       "      <td></td>\n",
       "      <td></td>\n",
       "      <td>100</td>\n",
       "      <td>2802</td>\n",
       "      <td>28.02</td>\n",
       "      <td>28.02</td>\n",
       "      <td></td>\n",
       "    </tr>\n",
       "    <tr>\n",
       "      <th>3</th>\n",
       "      <td>1</td>\n",
       "      <td>1</td>\n",
       "      <td>259.63</td>\n",
       "      <td>2</td>\n",
       "      <td>2</td>\n",
       "      <td></td>\n",
       "      <td>2</td>\n",
       "      <td>2</td>\n",
       "      <td></td>\n",
       "      <td></td>\n",
       "      <td>...</td>\n",
       "      <td></td>\n",
       "      <td>1</td>\n",
       "      <td>1</td>\n",
       "      <td></td>\n",
       "      <td>1</td>\n",
       "      <td>100</td>\n",
       "      <td>3127</td>\n",
       "      <td>31.27</td>\n",
       "      <td>31.27</td>\n",
       "      <td>4753</td>\n",
       "    </tr>\n",
       "    <tr>\n",
       "      <th>4</th>\n",
       "      <td>1</td>\n",
       "      <td>1</td>\n",
       "      <td>259.63</td>\n",
       "      <td>2</td>\n",
       "      <td>2</td>\n",
       "      <td></td>\n",
       "      <td>2</td>\n",
       "      <td>2</td>\n",
       "      <td></td>\n",
       "      <td></td>\n",
       "      <td>...</td>\n",
       "      <td></td>\n",
       "      <td>1</td>\n",
       "      <td>1</td>\n",
       "      <td></td>\n",
       "      <td>1</td>\n",
       "      <td>100</td>\n",
       "      <td>13378</td>\n",
       "      <td>133.78</td>\n",
       "      <td>133.78</td>\n",
       "      <td>20335</td>\n",
       "    </tr>\n",
       "  </tbody>\n",
       "</table>\n",
       "<p>5 rows × 22 columns</p>\n",
       "</div>"
      ],
      "text/plain": [
       "   REG  ZONE  FWEIGHT  CROP IRRG TREES SEEDTYPE DAMAGE DREASON DPERCENT  ...  \\\n",
       "0    1     1   259.63    99                                              ...   \n",
       "1    1     1   259.63     2    2              2      2                   ...   \n",
       "2    1     1   259.63    99                                              ...   \n",
       "3    1     1   259.63     2    2              2      2                   ...   \n",
       "4    1     1   259.63     2    2              2      2                   ...   \n",
       "\n",
       "  DMCHEM FERT FERTTYPE D22A D23 APERCENT   AREB ENUMAREA COMPAREA PRODUCT  \n",
       "0           2                        100   5402    54.02    54.02          \n",
       "1           2                        100   5027    50.27    50.27    7641  \n",
       "2           2                        100   2802    28.02    28.02          \n",
       "3           1        1        1      100   3127    31.27    31.27    4753  \n",
       "4           1        1        1      100  13378   133.78   133.78   20335  \n",
       "\n",
       "[5 rows x 22 columns]"
      ]
     },
     "execution_count": 9,
     "metadata": {},
     "output_type": "execute_result"
    }
   ],
   "source": [
    "year2004.head()"
   ]
  },
  {
   "cell_type": "code",
   "execution_count": 10,
   "metadata": {},
   "outputs": [
    {
     "data": {
      "text/plain": [
       "0    1\n",
       "1    1\n",
       "2    1\n",
       "3    1\n",
       "4    1\n",
       "Name: REG, dtype: int64"
      ]
     },
     "execution_count": 10,
     "metadata": {},
     "output_type": "execute_result"
    }
   ],
   "source": [
    "year2004[\"REG\"].head()"
   ]
  },
  {
   "cell_type": "code",
   "execution_count": 11,
   "metadata": {},
   "outputs": [],
   "source": [
    "columns = ['REG', 'ZONE', 'FWEIGHT', 'CROP', 'IRRG', 'TREES', 'SEEDTYPE', 'DAMAGE', 'DREASON', 'DPERCENT', 'DMEASURE', 'DMTYPE', 'DMCHEM', 'FERT', 'FERTTYPE', 'D22A', 'D23', 'APERCENT', 'ENUMAREA', 'COMPAREA', 'AREA', 'PODQ','PROD']\n",
    "cols=list(year2004.columns.values)\n",
    "year2004 = year2004[cols[0:17]]\n",
    "year2004.to_csv('C:/Users/hp/CSA_AGRI_DATA/csa_data_version2/field_info2_2004.csv',index = False)"
   ]
  },
  {
   "cell_type": "markdown",
   "metadata": {},
   "source": [
    "Now we will select the features we will be using in our machine learning model"
   ]
  },
  {
   "cell_type": "code",
   "execution_count": 55,
   "metadata": {},
   "outputs": [],
   "source": [
    "def featureselection2(year,csa_year):\n",
    "    if year == 1996:\n",
    "        columns = ['reg', 'zone', 'fweight', 'crop', 'irrg', 'trees', 'seedtype', 'damage', 'dreason', 'dpercent', 'dmeasure', 'dmtype', 'dmchem', 'fert', 'ferttype', 'chemtype', 'natutyp', 'apercent', 'enumarea', 'comparea', 'area', 'prodq', 'prod']\n",
    "        \n",
    "        column = ['REG', 'ZONE', 'FWEIGHT', 'CROP', 'IRRG', 'TREES', 'SEEDTYPE', 'DAMAGE', 'DREASON', 'DPERCENT', 'DMEASURE', 'DMTYPE', 'DMCHEM', 'FERT', 'FERTTYPE', 'D22A', 'D23', 'APERCENT', 'ENUMAREA', 'COMPAREA', 'AREA', 'PRODQ', 'PROD']\n",
    "        cols=list(csa_year.columns.values)\n",
    "        csa_year = csa_year[cols[0:17]]\n",
    "    \n",
    "        csa_year.to_csv('C:/Users/hp/CSA_AGRI_DATA/csa_data_version2/field_info2_1996.csv',index = False)\n",
    "    \n",
    "    elif year == 1997:\n",
    "        columns = ['v01', 'v02', 'fweight', 'crop', 'irrg', 'trees', 'seedtype', 'damage', 'dreason', 'dpercent', 'dmeasure', 'dmtype', 'dmchem', 'fert', 'ferttype', 'd21a', 'd22', 'apercent', 'enumarea', 'comparea', 'area','prodq', 'prod']\n",
    "        column = ['REG', 'ZONE', 'FWEIGHT', 'CROP', 'IRRG', 'TREES', 'SEEDTYPE', 'DAMAGE', 'DREASON', 'DPERCENT', 'DMEASURE', 'DMTYPE', 'DMCHEM', 'FERT', 'FERTTYPE', 'D22A', 'D23', 'APERCENT', 'ENUMAREA', 'COMPAREA', 'AREA', 'PROD']\n",
    "        \n",
    "        cols=list(csa_year.columns.values)\n",
    "        csa_year = csa_year[cols[0:17]]\n",
    "        \n",
    "        csa_year.to_csv('C:/Users/hp/CSA_AGRI_DATA/csa_data_version2/field_info2_1997.csv',index = False)\n",
    "    \n",
    "    elif year == 1998:\n",
    "        columns = ['region', 'zone', 'FWEIGHT', 'CROP', 'IRRG', 'TREES', 'SEEDTYPE', 'DAMAGE', 'DREASON', 'DPERCENT', 'DMEASURE', 'DMTYPE', 'DMCHEM', 'FERT', 'FERTTYPE', 'D21A', 'D22', 'APERCENT', 'ENUMAREA', 'COMPAREA', 'AREA', 'PROD']\n",
    "        column = ['REG', 'ZONE', 'FWEIGHT', 'CROP', 'IRRG', 'TREES', 'SEEDTYPE', 'DAMAGE', 'DREASON', 'DPERCENT', 'DMEASURE', 'DMTYPE', 'DMCHEM', 'FERT', 'FERTTYPE', 'D22A', 'D23', 'APERCENT', 'ENUMAREA', 'COMPAREA', 'AREA', 'PROD']\n",
    "    \n",
    "        cols=list(csa_year.columns.values)\n",
    "        csa_year = csa_year[cols[0:17]]\n",
    "        \n",
    "        csa_year.to_csv('C:/Users/hp/CSA_AGRI_DATA/csa_data_version2/field_info2_1998.csv',index = False)\n",
    "    elif year == 1999:\n",
    "        columns = ['reg', 'zone', 'fweight', 'crop', 'irrg', 'trees', 'seedtype', 'damage', 'dreason', 'dpercent', 'dmeasure', 'dmtype', 'dmchem', 'fert', 'ferttype', 'd22A', 'd23', 'apercent', 'enumarea', 'comparea', 'areab', 'prod99q']\n",
    "        column = ['REG', 'ZONE', 'FWEIGHT', 'CROP', 'IRRG', 'TREES', 'SEEDTYPE', 'DAMAGE', 'DREASON', 'DPERCENT', 'DMEASURE', 'DMTYPE', 'DMCHEM', 'FERT', 'FERTTYPE', 'D22A', 'D23', 'APERCENT', 'ENUMAREA', 'COMPAREA', 'AREAB', 'PRODQ']\n",
    "    \n",
    "        cols=list(csa_year.columns.values)\n",
    "        csa_year = csa_year[cols[0:17]]\n",
    "        \n",
    "        csa_year.to_csv('C:/Users/hp/CSA_AGRI_DATA/csa_data_version2/field_info2_1999.csv',index = False)\n",
    "    elif year == 2000:\n",
    "        columns = ['REG', 'ZONE', 'FWEIGHT', 'CROP', 'IRRG', 'TREES', 'SEEDTYPE', 'DAMAGE', 'DREASON', 'DPERCENT', 'DMEASURE', 'DMTYPE', 'DMCHEM', 'FERT', 'FERTTYPE', 'D22A', 'D23', 'APERCENT', 'ENUMAREA', 'COMPAREA', 'AREA', 'PODQ','PROD']\n",
    "        cols=list(csa_year.columns.values)\n",
    "        csa_year = csa_year[cols[0:17]]\n",
    "        \n",
    "        csa_year.to_csv('C:/Users/hp/CSA_AGRI_DATA/csa_data_version2/field_info2_2000.csv',index = False)\n",
    "    elif year == 2001:\n",
    "        columns = ['REG', 'ZONE', 'FWEIGHT', 'CROP', 'IRRG', 'TREES', 'SEEDTYPE', 'DAMAGE', 'DREASON', 'DPERCENT', 'DMEASURE', 'DMTYPE', 'DMCHEM', 'FERT', 'FERTTYPE', 'D22A', 'D23', 'APERCENT', 'ENUMAREA', 'COMPAREA', 'AREAH', 'PODQ']\n",
    "        cols=list(csa_year.columns.values)\n",
    "        csa_year = csa_year[cols[0:17]]\n",
    "        \n",
    "        csa_year.to_csv('C:/Users/hp/CSA_AGRI_DATA/csa_data_version2/field_info2_2001.csv',index = False)\n",
    "    elif year == 2002:\n",
    "        columns = ['REG', 'ZONE', 'FWEIGHT', 'CROP', 'IRRG', 'TREES', 'SEEDTYPE', 'DAMAGE', 'DREASON', 'DPERCENT', 'DMEASURE', 'DMTYPE', 'DMCHEM', 'FERT', 'FERTTYPE', 'D22A', 'D23', 'APERCENT', 'ENUMAREA', 'COMPAREA', 'AREA', 'PODQ','PROD']\n",
    "        cols=list(csa_year.columns.values)\n",
    "        csa_year = csa_year[cols[0:17]]\n",
    "        \n",
    "        csa_year.to_csv('C:/Users/hp/CSA_AGRI_DATA/csa_data_version2/field_info2_2002.csv',index = False)\n",
    "    elif year == 2003:\n",
    "        columns = ['REG', 'ZONE', 'FWEIGHT', 'CROP', 'IRRG', 'TREES', 'SEEDTYPE', 'DAMAGE', 'DREASON', 'DPERCENT', 'DMEASURE', 'DMTYPE', 'DMCHEM', 'FERT', 'FERTTYPE', 'D22A', 'D23', 'APERCENT', 'ENUMAREA', 'COMPAREA', 'AREA', 'PODQ','PROD']\n",
    "        cols=list(csa_year.columns.values)\n",
    "        csa_year = csa_year[cols[0:17]]\n",
    "        \n",
    "        csa_year.to_csv('C:/Users/hp/CSA_AGRI_DATA/csa_data_version2/field_info2_2003.csv',index = False)\n",
    "    elif year == 2004:\n",
    "        columns = ['REG', 'ZONE', 'FWEIGHT', 'CROP', 'IRRG', 'TREES', 'SEEDTYPE', 'DAMAGE', 'DREASON', 'DPERCENT', 'DMEASURE', 'DMTYPE', 'DMCHEM', 'FERT', 'FERTTYPE', 'D22A', 'D23', 'APERCENT', 'ENUMAREA', 'COMPAREA', 'AREA', 'PODQ','PROD']\n",
    "        cols=list(csa_year.columns.values)\n",
    "        csa_year = csa_year[cols[1:17]]\n",
    "        \n",
    "        csa_year.to_csv('C:/Users/hp/CSA_AGRI_DATA/csa_data_version2/field_info2_2004.csv',index = False)\n",
    "    elif year == 2005:\n",
    "        columns = ['REG', 'ZONE', 'FWEIGHT', 'CROP', 'IRRG', 'TREES', 'SEEDTYPE', 'DAMAGE', 'DREASON', 'DPERCENT', 'DMEASURE', 'DMTYPE', 'DMCHEM', 'FERT', 'FERTTYPE', 'D22A', 'D23', 'APERCENT', 'ENUMAREA', 'COMPAREA', 'AREA', 'PROD98FA']\n",
    "        cols=list(csa_year.columns.values)\n",
    "        csa_year = csa_year[cols[0:17]]\n",
    "        \n",
    "        csa_year.to_csv('C:/Users/hp/CSA_AGRI_DATA/csa_data_version2/field_info2_2005.csv',index = False)\n",
    "    elif year == 2006:\n",
    "        columns = ['REG', 'ZONE', 'FWEIGHT', 'CROP', 'IRRG', 'TREES', 'SEEDTYPE', 'DAMAGE', 'DREASON', 'DPERCENT', 'DMEASURE', 'DMTYPE', 'DMCHEM', 'FERT', 'FERTTYPE', 'D22A', 'D23', 'APERCENT', 'ENUMAREA', 'COMPAREA', 'AREA', 'PROD98FA']\n",
    "        cols=list(csa_year.columns.values)\n",
    "        csa_year = csa_year[cols[0:17]]\n",
    "        \n",
    "        csa_year.to_csv('C:/Users/hp/CSA_AGRI_DATA/csa_data_version2/field_info2_2006.csv',index = False)\n",
    "    elif year == 2007:\n",
    "        columns = ['REG', 'ZONE', 'FWEIGHT', 'CROP', 'IRRG', 'TREES', 'SEEDTYPE', 'DAMAGE', 'DREASON', 'DPERCENT', 'DMEASURE', 'DMTYPE', 'DMCHEM', 'FERT', 'FERTTYPE', 'D22A', 'D23', 'APERCENT', 'ENUMAREA', 'COMPAREA', 'AREA', 'PROD98FA']\n",
    "        cols=list(csa_year.columns.values)\n",
    "        csa_year = csa_year[cols[0:17]]\n",
    "        csa_year.to_csv('C:/Users/hp/CSA_AGRI_DATA/csa_data_version2/field_info2_2007.csv',index = False)\n",
    "    elif year == 2008:\n",
    "        columns = ['REG', 'ZONE', 'FWEIGHT', 'CROP', 'IRRG', 'TREES', 'SEEDTYPE', 'DAMAGE', 'DREASON', 'DPERCENT', 'DMEASURE', 'DMTYPE', 'DMCHEM', 'FERT', 'FERTTYPE', 'D22A', 'D23', 'APERCENT', 'ENUMAREA', 'COMPAREA', 'AREA', 'PROD98FA']\n",
    "        cols=list(csa_year.columns.values)\n",
    "        csa_year = csa_year[cols[0:15] + [cols[16]] + [cols[18]]]\n",
    "        \n",
    "        csa_year.to_csv('C:/Users/hp/CSA_AGRI_DATA/csa_data_version2/field_info2_2008.csv',index = False)\n",
    "    elif year == 2009:\n",
    "        columns = ['REG', 'ZONE', 'FWEIGHT', 'CROP', 'IRRG', 'TREES', 'SEEDTYPE', 'DAMAGE', 'DREASON', 'DPERCENT', 'DMEASURE', 'DMTYPE', 'DMCHEM', 'FERT', 'FERTTYPE', 'D22A', 'D23', 'APERCENT', 'ENUMAREA', 'COMPAREA', 'AREA', 'PROD98FA']\n",
    "        cols=list(csa_year.columns.values)\n",
    "        csa_year = csa_year[cols[0:17]]\n",
    "        \n",
    "        csa_year.to_csv('C:/Users/hp/CSA_AGRI_DATA/csa_data_version2/field_info2_2009.csv',index = False)\n",
    "    elif year == 2010:\n",
    "        columns = ['REG', 'ZONE', 'FWEIGHT', 'CROP', 'IRRG', 'TREES', 'SEEDTYPE', 'DAMAGE', 'DREASON', 'DPERCENT', 'DMEASURE', 'DMTYPE', 'DMCHEM', 'FERT', 'FERTTYPE', 'D22A', 'D23', 'APERCENT', 'ENUMAREA', 'COMPAREA', 'AREA', 'PROD98FA']\n",
    "        cols=list(csa_year.columns.values)\n",
    "        csa_year = csa_year[cols[0:17]]\n",
    "        \n",
    "        csa_year.to_csv('C:/Users/hp/CSA_AGRI_DATA/csa_data_version2/field_info2_2010.csv',index = False)\n",
    "    elif year == 2011:\n",
    "        columns = ['REG', 'ZONE', 'FWEIGHT', 'CROP', 'IRRG', 'TREES', 'SEEDTYPE', 'DAMAGE', 'DREASON', 'DPERCENT', 'DMEASURE', 'DMTYPE', 'DMCHEM', 'FERT', 'FERTTYPE', 'D22A', 'D23', 'APERCENT', 'ENUMAREA', 'COMPAREA', 'AREA', 'PROD98FA']\n",
    "        cols=list(csa_year.columns.values)\n",
    "        csa_year = csa_year[cols[0:17]]\n",
    "        \n",
    "        csa_year.to_csv('C:/Users/hp/CSA_AGRI_DATA/csa_data_version2/field_info2_2011.csv',index = False)\n",
    "    elif year == 2012:\n",
    "        columns = ['REG', 'ZONE', 'FWEIGHT', 'CROP', 'IRRG', 'TREES', 'SEEDTYPE', 'DAMAGE', 'DREASON', 'DPERCENT', 'DMEASURE', 'DMTYPE', 'DMCHEM', 'FERT', 'FERTTYPE', 'D22A', 'D23', 'APERCENT', 'ENUMAREA', 'COMPAREA', 'AREA', 'PROD98FA']\n",
    "        cols=list(csa_year.columns.values)\n",
    "        csa_year = csa_year[cols[0:17]]\n",
    "        \n",
    "        csa_year.to_csv('C:/Users/hp/CSA_AGRI_DATA/csa_data_version2/field_info2_2012.csv',index = False)"
   ]
  },
  {
   "cell_type": "code",
   "execution_count": 56,
   "metadata": {},
   "outputs": [],
   "source": [
    "featureselection2(1996,year1996)"
   ]
  },
  {
   "cell_type": "code",
   "execution_count": 57,
   "metadata": {},
   "outputs": [],
   "source": [
    "featureselection2(1997,year1997)"
   ]
  },
  {
   "cell_type": "code",
   "execution_count": 58,
   "metadata": {},
   "outputs": [],
   "source": [
    "featureselection2(1998,year1998)"
   ]
  },
  {
   "cell_type": "code",
   "execution_count": 59,
   "metadata": {},
   "outputs": [],
   "source": [
    "featureselection2(1999,year1999)"
   ]
  },
  {
   "cell_type": "code",
   "execution_count": 60,
   "metadata": {},
   "outputs": [],
   "source": [
    "featureselection2(2000,year2000)"
   ]
  },
  {
   "cell_type": "code",
   "execution_count": 61,
   "metadata": {},
   "outputs": [],
   "source": [
    "featureselection2(2001,year2001)"
   ]
  },
  {
   "cell_type": "code",
   "execution_count": 62,
   "metadata": {},
   "outputs": [],
   "source": [
    "featureselection2(2002,year2002)"
   ]
  },
  {
   "cell_type": "code",
   "execution_count": 63,
   "metadata": {},
   "outputs": [],
   "source": [
    "featureselection2(2003,year2003)"
   ]
  },
  {
   "cell_type": "code",
   "execution_count": 64,
   "metadata": {},
   "outputs": [],
   "source": [
    "featureselection2(2004,year2004)"
   ]
  },
  {
   "cell_type": "code",
   "execution_count": 65,
   "metadata": {},
   "outputs": [],
   "source": [
    "featureselection2(2005,year2005)"
   ]
  },
  {
   "cell_type": "code",
   "execution_count": 66,
   "metadata": {},
   "outputs": [],
   "source": [
    "featureselection2(2006,year2006)"
   ]
  },
  {
   "cell_type": "code",
   "execution_count": 67,
   "metadata": {},
   "outputs": [],
   "source": [
    "featureselection2(2007,year2007)"
   ]
  },
  {
   "cell_type": "code",
   "execution_count": 68,
   "metadata": {},
   "outputs": [],
   "source": [
    "featureselection2(2008,year2008)"
   ]
  },
  {
   "cell_type": "code",
   "execution_count": 69,
   "metadata": {},
   "outputs": [],
   "source": [
    "featureselection2(2009,year2009)"
   ]
  },
  {
   "cell_type": "code",
   "execution_count": 70,
   "metadata": {},
   "outputs": [],
   "source": [
    "featureselection2(2010,year2010)"
   ]
  },
  {
   "cell_type": "code",
   "execution_count": 71,
   "metadata": {},
   "outputs": [],
   "source": [
    "featureselection2(2011,year2011)"
   ]
  },
  {
   "cell_type": "code",
   "execution_count": 72,
   "metadata": {},
   "outputs": [],
   "source": [
    "featureselection2(2012,year2012)"
   ]
  },
  {
   "cell_type": "code",
   "execution_count": null,
   "metadata": {},
   "outputs": [],
   "source": []
  }
 ],
 "metadata": {
  "kernelspec": {
   "display_name": "Python 3",
   "language": "python",
   "name": "python3"
  },
  "language_info": {
   "codemirror_mode": {
    "name": "ipython",
    "version": 3
   },
   "file_extension": ".py",
   "mimetype": "text/x-python",
   "name": "python",
   "nbconvert_exporter": "python",
   "pygments_lexer": "ipython3",
   "version": "3.7.3"
  }
 },
 "nbformat": 4,
 "nbformat_minor": 2
}
