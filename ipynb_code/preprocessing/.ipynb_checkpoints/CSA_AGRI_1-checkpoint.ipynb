{
 "cells": [
  {
   "cell_type": "markdown",
   "metadata": {},
   "source": [
    "# In this note book we will select the most important features to put in our machine learnin model"
   ]
  },
  {
   "cell_type": "code",
   "execution_count": null,
   "metadata": {},
   "outputs": [],
   "source": [
    "import pandas as pd\n",
    "import numpy as np"
   ]
  },
  {
   "cell_type": "code",
   "execution_count": 7,
   "metadata": {},
   "outputs": [],
   "source": [
    "year1996 = pd.read_csv(\"C:/Users/hp/CSA_AGRI_DATA/csa_data_version1/field_info1_1996.csv\")"
   ]
  },
  {
   "cell_type": "code",
   "execution_count": 5,
   "metadata": {},
   "outputs": [
    {
     "name": "stderr",
     "output_type": "stream",
     "text": [
      "C:\\Users\\hp\\Anaconda3\\lib\\site-packages\\IPython\\core\\interactiveshell.py:3057: DtypeWarning: Columns (3) have mixed types. Specify dtype option on import or set low_memory=False.\n",
      "  interactivity=interactivity, compiler=compiler, result=result)\n"
     ]
    }
   ],
   "source": [
    "year1997 = pd.read_csv(\"C:/Users/hp/CSA_AGRI_DATA/csa_data_version1/field_info1_1997.csv\")"
   ]
  },
  {
   "cell_type": "code",
   "execution_count": 6,
   "metadata": {},
   "outputs": [],
   "source": [
    "year1998 = pd.read_csv(\"C:/Users/hp/CSA_AGRI_DATA/csa_data_version1/field_info1_1998.csv\")"
   ]
  },
  {
   "cell_type": "code",
   "execution_count": 7,
   "metadata": {},
   "outputs": [
    {
     "name": "stderr",
     "output_type": "stream",
     "text": [
      "C:\\Users\\hp\\Anaconda3\\lib\\site-packages\\IPython\\core\\interactiveshell.py:3057: DtypeWarning: Columns (17,20) have mixed types. Specify dtype option on import or set low_memory=False.\n",
      "  interactivity=interactivity, compiler=compiler, result=result)\n"
     ]
    }
   ],
   "source": [
    "year1999 = pd.read_csv(\"C:/Users/hp/CSA_AGRI_DATA/csa_data_version1/field_info1_1999.csv\")"
   ]
  },
  {
   "cell_type": "code",
   "execution_count": 8,
   "metadata": {},
   "outputs": [
    {
     "name": "stderr",
     "output_type": "stream",
     "text": [
      "C:\\Users\\hp\\Anaconda3\\lib\\site-packages\\IPython\\core\\interactiveshell.py:3057: DtypeWarning: Columns (20) have mixed types. Specify dtype option on import or set low_memory=False.\n",
      "  interactivity=interactivity, compiler=compiler, result=result)\n"
     ]
    }
   ],
   "source": [
    "year2000 = pd.read_csv(\"C:/Users/hp/CSA_AGRI_DATA/csa_data_version1/field_info1_2000.csv\")"
   ]
  },
  {
   "cell_type": "code",
   "execution_count": 9,
   "metadata": {},
   "outputs": [
    {
     "name": "stderr",
     "output_type": "stream",
     "text": [
      "C:\\Users\\hp\\Anaconda3\\lib\\site-packages\\IPython\\core\\interactiveshell.py:3057: DtypeWarning: Columns (13,17) have mixed types. Specify dtype option on import or set low_memory=False.\n",
      "  interactivity=interactivity, compiler=compiler, result=result)\n"
     ]
    }
   ],
   "source": [
    "year2001 = pd.read_csv(\"C:/Users/hp/CSA_AGRI_DATA/csa_data_version1/field_info1_2001.csv\")"
   ]
  },
  {
   "cell_type": "code",
   "execution_count": 3,
   "metadata": {},
   "outputs": [],
   "source": [
    "year2004 = pd.read_csv(\"C:/Users/hp/CSA_AGRI_DATA/csa_data_version1/field_info1_2004.csv\")"
   ]
  },
  {
   "cell_type": "code",
   "execution_count": 10,
   "metadata": {},
   "outputs": [
    {
     "name": "stderr",
     "output_type": "stream",
     "text": [
      "C:\\Users\\hp\\Anaconda3\\lib\\site-packages\\IPython\\core\\interactiveshell.py:3057: DtypeWarning: Columns (13,21) have mixed types. Specify dtype option on import or set low_memory=False.\n",
      "  interactivity=interactivity, compiler=compiler, result=result)\n"
     ]
    }
   ],
   "source": [
    "year2005 = pd.read_csv(\"C:/Users/hp/CSA_AGRI_DATA/csa_data_version1/field_info1_2005.csv\")"
   ]
  },
  {
   "cell_type": "code",
   "execution_count": 11,
   "metadata": {},
   "outputs": [
    {
     "name": "stderr",
     "output_type": "stream",
     "text": [
      "C:\\Users\\hp\\Anaconda3\\lib\\site-packages\\IPython\\core\\interactiveshell.py:3057: DtypeWarning: Columns (13,20,21) have mixed types. Specify dtype option on import or set low_memory=False.\n",
      "  interactivity=interactivity, compiler=compiler, result=result)\n"
     ]
    }
   ],
   "source": [
    "year2006 = pd.read_csv(\"C:/Users/hp/CSA_AGRI_DATA/csa_data_version1/field_info1_2006.csv\")"
   ]
  },
  {
   "cell_type": "code",
   "execution_count": 12,
   "metadata": {},
   "outputs": [],
   "source": [
    "year2007 = pd.read_csv(\"C:/Users/hp/CSA_AGRI_DATA/csa_data_version1/field_info1_2007.csv\")"
   ]
  },
  {
   "cell_type": "code",
   "execution_count": 13,
   "metadata": {},
   "outputs": [],
   "source": [
    "year2008 = pd.read_csv(\"C:/Users/hp/CSA_AGRI_DATA/csa_data_version1/field_info1_2008.csv\")"
   ]
  },
  {
   "cell_type": "code",
   "execution_count": 14,
   "metadata": {},
   "outputs": [
    {
     "name": "stderr",
     "output_type": "stream",
     "text": [
      "C:\\Users\\hp\\Anaconda3\\lib\\site-packages\\IPython\\core\\interactiveshell.py:3057: DtypeWarning: Columns (13,20) have mixed types. Specify dtype option on import or set low_memory=False.\n",
      "  interactivity=interactivity, compiler=compiler, result=result)\n"
     ]
    }
   ],
   "source": [
    "year2009 = pd.read_csv(\"C:/Users/hp/CSA_AGRI_DATA/csa_data_version1/field_info1_2009.csv\")"
   ]
  },
  {
   "cell_type": "code",
   "execution_count": 15,
   "metadata": {},
   "outputs": [],
   "source": [
    "year2010 = pd.read_csv(\"C:/Users/hp/CSA_AGRI_DATA/csa_data_version1/field_info1_2010.csv\")"
   ]
  },
  {
   "cell_type": "code",
   "execution_count": 16,
   "metadata": {},
   "outputs": [
    {
     "name": "stderr",
     "output_type": "stream",
     "text": [
      "C:\\Users\\hp\\Anaconda3\\lib\\site-packages\\IPython\\core\\interactiveshell.py:3057: DtypeWarning: Columns (13) have mixed types. Specify dtype option on import or set low_memory=False.\n",
      "  interactivity=interactivity, compiler=compiler, result=result)\n"
     ]
    }
   ],
   "source": [
    "year2011 = pd.read_csv(\"C:/Users/hp/CSA_AGRI_DATA/csa_data_version1/field_info1_2011.csv\")"
   ]
  },
  {
   "cell_type": "code",
   "execution_count": 17,
   "metadata": {},
   "outputs": [
    {
     "name": "stderr",
     "output_type": "stream",
     "text": [
      "C:\\Users\\hp\\Anaconda3\\lib\\site-packages\\IPython\\core\\interactiveshell.py:3057: DtypeWarning: Columns (17,19) have mixed types. Specify dtype option on import or set low_memory=False.\n",
      "  interactivity=interactivity, compiler=compiler, result=result)\n"
     ]
    }
   ],
   "source": [
    "year2012 = pd.read_csv(\"C:/Users/hp/CSA_AGRI_DATA/csa_data_version1/field_info1_2012.csv\")"
   ]
  },
  {
   "cell_type": "code",
   "execution_count": 11,
   "metadata": {},
   "outputs": [
    {
     "data": {
      "text/plain": [
       "Index(['REG', 'ZONE', 'FWEIGHT', 'CROP', 'IRRG', 'TREES', 'SEEDTYPE', 'DAMAGE',\n",
       "       'DREASON', 'DPERCENT', 'DMEASURE', 'DMTYPE', 'DMCHEM', 'FERT',\n",
       "       'FERTTYPE', 'D22A', 'D23', 'APERCENT', 'AREB', 'ENUMAREA', 'COMPAREA',\n",
       "       'PRODUCT'],\n",
       "      dtype='object')"
      ]
     },
     "execution_count": 11,
     "metadata": {},
     "output_type": "execute_result"
    }
   ],
   "source": [
    "year2004.columns"
   ]
  },
  {
   "cell_type": "code",
   "execution_count": 8,
   "metadata": {},
   "outputs": [
    {
     "data": {
      "text/plain": [
       "Index(['reg', 'zone', 'fweight', 'crop', 'irrg', 'trees', 'seedtype', 'damage',\n",
       "       'dreason', 'dpercent', 'dmeasure', 'dmtype', 'dmchem', 'fert',\n",
       "       'ferttype', 'chemtype', 'natutyp', 'apercent', 'enumarea', 'comparea'],\n",
       "      dtype='object')"
      ]
     },
     "execution_count": 8,
     "metadata": {},
     "output_type": "execute_result"
    }
   ],
   "source": [
    "year1996.columns[0:20]\n"
   ]
  },
  {
   "cell_type": "code",
   "execution_count": 12,
   "metadata": {},
   "outputs": [
    {
     "data": {
      "text/plain": [
       "Index(['ENUMAREA', 'COMPAREA'], dtype='object')"
      ]
     },
     "execution_count": 12,
     "metadata": {},
     "output_type": "execute_result"
    }
   ],
   "source": [
    "year2004.columns[19:21]"
   ]
  },
  {
   "cell_type": "code",
   "execution_count": 24,
   "metadata": {},
   "outputs": [
    {
     "data": {
      "text/plain": [
       "[Index(['reg', 'zone', 'fweight', 'crop', 'irrg', 'trees', 'seedtype', 'damage',\n",
       "        'dreason', 'dpercent', 'dmeasure', 'dmtype', 'dmchem', 'fert',\n",
       "        'ferttype', 'chemtype', 'natutyp', 'apercent', 'enumarea', 'comparea',\n",
       "        'area', 'prodq', 'prod'],\n",
       "       dtype='object'),\n",
       " Index(['v01', 'v02', 'fweight', 'crop', 'irrg', 'trees', 'seedtype', 'damage',\n",
       "        'dreason', 'dpercent', 'dmeasure', 'dmtype', 'dmchem', 'fert',\n",
       "        'ferttype', 'd21a', 'd22', 'apercent', 'enumarea', 'comparea', 'area',\n",
       "        'prodq', 'prod'],\n",
       "       dtype='object'),\n",
       " Index(['region', 'zone', 'FWEIGHT', 'CROP', 'IRRG', 'TREES', 'SEEDTYPE',\n",
       "        'DAMAGE', 'DREASON', 'DPERCENT', 'DMEASURE', 'DMTYPE', 'DMCHEM', 'FERT',\n",
       "        'FERTTYPE', 'D21A', 'D22', 'APERCENT', 'ENUMAREA', 'COMPAREA', 'AREA',\n",
       "        'PRODQ', 'PROD'],\n",
       "       dtype='object'),\n",
       " Index(['reg', 'zone', 'fweight', 'crop', 'irrg', 'trees', 'seedtype', 'damage',\n",
       "        'dreason', 'dpercent', 'dmeasure', 'dmtype', 'dmchem', 'fert',\n",
       "        'ferttype', 'd22a', 'd23', 'apercent', 'enumarea', 'comparea', 'areb',\n",
       "        'prod99q'],\n",
       "       dtype='object'),\n",
       " Index(['REG', 'ZONE', 'FWEIGHT', 'CROP', 'IRRG', 'TREES', 'SEEDTYPE', 'DAMAGE',\n",
       "        'DREASON', 'DPERCENT', 'DMEASURE', 'DMTYPE', 'DMCHEM', 'FERT',\n",
       "        'FERTTYPE', 'D22A', 'D23', 'APERCENT', 'ENUMAREA', 'COMPAREA', 'AREA',\n",
       "        'PRODQ', 'PROD'],\n",
       "       dtype='object'),\n",
       " Index(['REG', 'ZONE', 'FWEIGHT', 'CROP', 'IRRG', 'TREES', 'SEEDTYPE', 'DAMAGE',\n",
       "        'DREASON', 'DPERCENT', 'DMEASURE', 'DMTYPE', 'DMCHEM', 'FERT',\n",
       "        'FERTTYPE', 'D22A', 'D23', 'APERCENT', 'ENUMAREA', 'COMPAREA',\n",
       "        'LANDUSE', 'PRODQ'],\n",
       "       dtype='object'),\n",
       " Index(['REG', 'ZONE', 'FWEIGHT', 'CROP', 'IRRG', 'TREES', 'SEEDTYPE', 'DAMAGE',\n",
       "        'DREASON', 'DPERCENT', 'DMEASURE', 'DMTYPE', 'DMCHEM', 'FERT',\n",
       "        'FERTTYPE', 'D22A', 'D23', 'D25', 'APERCENT', 'ENUMAREA', 'COMPAREA',\n",
       "        'AREA', 'PROD98FA'],\n",
       "       dtype='object'),\n",
       " Index(['REG', 'ZONE', 'FWEIGHT', 'CROP', 'IRRG', 'TREES', 'SEEDTYPE', 'DAMAGE',\n",
       "        'DREASON', 'DPERCENT', 'DMEASURE', 'DMTYPE', 'DMCHEM', 'FERT',\n",
       "        'FERTTYPE', 'D22A', 'D23', 'APERCENT', 'ENUMAREA', 'COMPAREA', 'AREA',\n",
       "        'AREAH', 'PROD98FA'],\n",
       "       dtype='object'),\n",
       " Index(['REG', 'ZONE', 'FWEIGHT', 'CROP', 'IRRG', 'TREES', 'SEEDTYPE', 'DAMAGE',\n",
       "        'DREASON', 'DPERCENT', 'DMEASURE', 'DMTYPE', 'DMCHEM', 'FERT',\n",
       "        'FERTTYPE', 'D22A', 'D23', 'CERROR', 'ENUMAREA', 'COMPAREA', 'AREA',\n",
       "        'AREB', 'PROD98FA'],\n",
       "       dtype='object'),\n",
       " Index(['reg', 'zone', 'fweight', 'crop', 'irrg', 'trees', 'seedtype', 'damage',\n",
       "        'dreason', 'dpercent', 'dmeasure', 'dmtype', 'dmchem', 'fert',\n",
       "        'ferttype', 'fertnotu', 'chemtype', 'chemquan', 'natutyp', 'apercent',\n",
       "        'enumarea', 'comparea', 'area', 'prodq', 'prod'],\n",
       "       dtype='object'),\n",
       " Index(['REG', 'ZONE', 'FWEIGHT', 'CROP', 'IRRG', 'TREES', 'SEEDTYPE', 'DAMAGE',\n",
       "        'DREASON', 'DPERCENT', 'DMEASURE', 'DMTYPE', 'DMCHEM', 'FERT',\n",
       "        'FERTTYPE', 'D22A', 'D23', 'APERCENT', 'ENUMAREA', 'COMPAREA', 'AREA',\n",
       "        'PROD98FA'],\n",
       "       dtype='object'),\n",
       " Index(['REG', 'ZONE', 'FWEIGHT', 'CROP', 'IRRG', 'TREES', 'SEEDTYPE', 'DAMAGE',\n",
       "        'DREASON', 'DPERCENT', 'DMEASURE', 'DMTYPE', 'DMCHEM', 'FERT',\n",
       "        'FERTTYPE', 'D22A', 'D23', 'APERCENT', 'ENUMAREA', 'COMPAREA', 'AREA',\n",
       "        'PROD98FA'],\n",
       "       dtype='object'),\n",
       " Index(['REG', 'ZONE', 'FWEIGHT', 'CROP', 'IRRG', 'TREES', 'SEEDTYPE', 'DAMAGE',\n",
       "        'DREASON', 'DPERCENT', 'DMEASURE', 'DMTYPE', 'DMCHEM', 'FERT',\n",
       "        'FERTTYPE', 'D22A', 'D23', 'APERCENT', 'ENUMAREA', 'COMPAREA', 'AREA',\n",
       "        'PROD98FA'],\n",
       "       dtype='object'),\n",
       " Index(['REG', 'ZONE', 'FWEIGHT', 'CROP', 'IRRG', 'TREES', 'SEEDTYPE', 'DAMAGE',\n",
       "        'DREASON', 'DPERCENT', 'DMEASURE', 'DMTYPE', 'DMCHEM', 'FERT',\n",
       "        'FERTTYPE', 'D22A', 'D23', 'APERCENT', 'G4_LOCAL_AREA', 'G4A_LACODE',\n",
       "        'AREA', 'PROD98FA'],\n",
       "       dtype='object')]"
      ]
     },
     "execution_count": 24,
     "metadata": {},
     "output_type": "execute_result"
    }
   ],
   "source": [
    "[year1996.columns] + [year1997.columns] + [year1998.columns] + [year1999.columns] + [year2000.columns] + [year2001.columns] + [year2005.columns] + [year2006.columns] + [year2007.columns] + [year2008.columns] + [year2009.columns] + [year2010.columns] + [year2011.columns] + [year2012.columns]"
   ]
  },
  {
   "cell_type": "code",
   "execution_count": 27,
   "metadata": {},
   "outputs": [
    {
     "name": "stdout",
     "output_type": "stream",
     "text": [
      "['reg', 'v01', 'region', 'reg', 'REG', 'REG', 'REG', 'REG', 'REG', 'reg', 'REG', 'REG', 'REG', 'REG']\n",
      "['zone', 'v02', 'zone', 'zone', 'ZONE', 'ZONE', 'ZONE', 'ZONE', 'ZONE', 'zone', 'ZONE', 'ZONE', 'ZONE', 'ZONE']\n",
      "['fweight', 'fweight', 'FWEIGHT', 'fweight', 'FWEIGHT', 'FWEIGHT', 'FWEIGHT', 'FWEIGHT', 'FWEIGHT', 'fweight', 'FWEIGHT', 'FWEIGHT', 'FWEIGHT', 'FWEIGHT']\n",
      "['crop', 'crop', 'CROP', 'crop', 'CROP', 'CROP', 'CROP', 'CROP', 'CROP', 'crop', 'CROP', 'CROP', 'CROP', 'CROP']\n",
      "['irrg', 'irrg', 'IRRG', 'irrg', 'IRRG', 'IRRG', 'IRRG', 'IRRG', 'IRRG', 'irrg', 'IRRG', 'IRRG', 'IRRG', 'IRRG']\n",
      "['trees', 'trees', 'TREES', 'trees', 'TREES', 'TREES', 'TREES', 'TREES', 'TREES', 'trees', 'TREES', 'TREES', 'TREES', 'TREES']\n",
      "['seedtype', 'seedtype', 'SEEDTYPE', 'seedtype', 'SEEDTYPE', 'SEEDTYPE', 'SEEDTYPE', 'SEEDTYPE', 'SEEDTYPE', 'seedtype', 'SEEDTYPE', 'SEEDTYPE', 'SEEDTYPE', 'SEEDTYPE']\n",
      "['damage', 'damage', 'DAMAGE', 'damage', 'DAMAGE', 'DAMAGE', 'DAMAGE', 'DAMAGE', 'DAMAGE', 'damage', 'DAMAGE', 'DAMAGE', 'DAMAGE', 'DAMAGE']\n",
      "['dreason', 'dreason', 'DREASON', 'dreason', 'DREASON', 'DREASON', 'DREASON', 'DREASON', 'DREASON', 'dreason', 'DREASON', 'DREASON', 'DREASON', 'DREASON']\n",
      "['dpercent', 'dpercent', 'DPERCENT', 'dpercent', 'DPERCENT', 'DPERCENT', 'DPERCENT', 'DPERCENT', 'DPERCENT', 'dpercent', 'DPERCENT', 'DPERCENT', 'DPERCENT', 'DPERCENT']\n",
      "['dmeasure', 'dmeasure', 'DMEASURE', 'dmeasure', 'DMEASURE', 'DMEASURE', 'DMEASURE', 'DMEASURE', 'DMEASURE', 'dmeasure', 'DMEASURE', 'DMEASURE', 'DMEASURE', 'DMEASURE']\n",
      "['dmtype', 'dmtype', 'DMTYPE', 'dmtype', 'DMTYPE', 'DMTYPE', 'DMTYPE', 'DMTYPE', 'DMTYPE', 'dmtype', 'DMTYPE', 'DMTYPE', 'DMTYPE', 'DMTYPE']\n",
      "['dmchem', 'dmchem', 'DMCHEM', 'dmchem', 'DMCHEM', 'DMCHEM', 'DMCHEM', 'DMCHEM', 'DMCHEM', 'dmchem', 'DMCHEM', 'DMCHEM', 'DMCHEM', 'DMCHEM']\n",
      "['fert', 'fert', 'FERT', 'fert', 'FERT', 'FERT', 'FERT', 'FERT', 'FERT', 'fert', 'FERT', 'FERT', 'FERT', 'FERT']\n",
      "['ferttype', 'ferttype', 'FERTTYPE', 'ferttype', 'FERTTYPE', 'FERTTYPE', 'FERTTYPE', 'FERTTYPE', 'FERTTYPE', 'ferttype', 'FERTTYPE', 'FERTTYPE', 'FERTTYPE', 'FERTTYPE']\n",
      "['chemtype', 'd21a', 'D21A', 'd22a', 'D22A', 'D22A', 'D22A', 'D22A', 'D22A', 'fertnotu', 'D22A', 'D22A', 'D22A', 'D22A']\n",
      "['natutyp', 'd22', 'D22', 'd23', 'D23', 'D23', 'D23', 'D23', 'D23', 'chemtype', 'D23', 'D23', 'D23', 'D23']\n",
      "['apercent', 'apercent', 'APERCENT', 'apercent', 'APERCENT', 'APERCENT', 'D25', 'APERCENT', 'CERROR', 'chemquan', 'APERCENT', 'APERCENT', 'APERCENT', 'APERCENT']\n",
      "['enumarea', 'enumarea', 'ENUMAREA', 'enumarea', 'ENUMAREA', 'ENUMAREA', 'APERCENT', 'ENUMAREA', 'ENUMAREA', 'natutyp', 'ENUMAREA', 'ENUMAREA', 'ENUMAREA', 'G4_LOCAL_AREA']\n",
      "['comparea', 'comparea', 'COMPAREA', 'comparea', 'COMPAREA', 'COMPAREA', 'ENUMAREA', 'COMPAREA', 'COMPAREA', 'apercent', 'COMPAREA', 'COMPAREA', 'COMPAREA', 'G4A_LACODE']\n",
      "['area', 'area', 'AREA', 'areb', 'AREA', 'LANDUSE', 'COMPAREA', 'AREA', 'AREA', 'enumarea', 'AREA', 'AREA', 'AREA', 'AREA']\n",
      "['prodq', 'prodq', 'PRODQ', 'prod99q', 'PRODQ', 'PRODQ', 'AREA', 'AREAH', 'AREB', 'comparea', 'PROD98FA', 'PROD98FA', 'PROD98FA', 'PROD98FA']\n"
     ]
    }
   ],
   "source": [
    "for i in range(22):\n",
    "    print([year1996.columns[i]] + [year1997.columns[i]] + [year1998.columns[i]] + [year1999.columns[i]] + [year2000.columns[i]] + [year2001.columns[i]] + [year2005.columns[i]] + [year2006.columns[i]] + [year2007.columns[i]] + [year2008.columns[i]] + [year2009.columns[i]] + [year2010.columns[i]] + [year2011.columns[i]] + [year2012.columns[i]])"
   ]
  },
  {
   "cell_type": "code",
   "execution_count": 68,
   "metadata": {},
   "outputs": [],
   "source": [
    "def featureselection1(year,csa_year):\n",
    "    if year == 1996:\n",
    "        columns = ['reg', 'zone', 'fweight', 'crop', 'irrg', 'trees', 'seedtype', 'damage', 'dreason', 'dpercent', 'dmeasure', 'dmtype', 'dmchem', 'fert', 'ferttype', 'chemtype', 'natutyp', 'apercent', 'enumarea', 'comparea', 'area', 'prodq', 'prod']\n",
    "        \n",
    "        column = ['REG', 'ZONE', 'FWEIGHT', 'CROP', 'IRRG', 'TREES', 'SEEDTYPE', 'DAMAGE', 'DREASON', 'DPERCENT', 'DMEASURE', 'DMTYPE', 'DMCHEM', 'FERT', 'FERTTYPE', 'D22A', 'D23', 'APERCENT', 'ENUMAREA', 'COMPAREA', 'AREA', 'PRODQ', 'PROD']\n",
    "        cols=list(csa_year.columns.values)\n",
    "        csa_year = csa_year[cols[0:20]]\n",
    "    \n",
    "        csa_year.to_csv('C:/Users/hp/CSA_AGRI_DATA/csa_data_version101/field_info1_1996.csv',index = False)\n",
    "    \n",
    "    elif year == 1997:\n",
    "        columns = ['v01', 'v02', 'fweight', 'crop', 'irrg', 'trees', 'seedtype', 'damage', 'dreason', 'dpercent', 'dmeasure', 'dmtype', 'dmchem', 'fert', 'ferttype', 'd21a', 'd22', 'apercent', 'enumarea', 'comparea', 'area','prodq', 'prod']\n",
    "        column = ['REG', 'ZONE', 'FWEIGHT', 'CROP', 'IRRG', 'TREES', 'SEEDTYPE', 'DAMAGE', 'DREASON', 'DPERCENT', 'DMEASURE', 'DMTYPE', 'DMCHEM', 'FERT', 'FERTTYPE', 'D22A', 'D23', 'APERCENT', 'ENUMAREA', 'COMPAREA', 'AREA', 'PROD']\n",
    "        \n",
    "        cols=list(csa_year.columns.values)\n",
    "        csa_year = csa_year[cols[0:20]]\n",
    "        \n",
    "        csa_year.to_csv('C:/Users/hp/CSA_AGRI_DATA/csa_data_version101/field_info1_1997.csv',index = False)\n",
    "    \n",
    "    elif year == 1998:\n",
    "        columns = ['region', 'zone', 'FWEIGHT', 'CROP', 'IRRG', 'TREES', 'SEEDTYPE', 'DAMAGE', 'DREASON', 'DPERCENT', 'DMEASURE', 'DMTYPE', 'DMCHEM', 'FERT', 'FERTTYPE', 'D21A', 'D22', 'APERCENT', 'ENUMAREA', 'COMPAREA', 'AREA', 'PROD']\n",
    "        column = ['REG', 'ZONE', 'FWEIGHT', 'CROP', 'IRRG', 'TREES', 'SEEDTYPE', 'DAMAGE', 'DREASON', 'DPERCENT', 'DMEASURE', 'DMTYPE', 'DMCHEM', 'FERT', 'FERTTYPE', 'D22A', 'D23', 'APERCENT', 'ENUMAREA', 'COMPAREA', 'AREA', 'PROD']\n",
    "    \n",
    "        cols=list(csa_year.columns.values)\n",
    "        csa_year = csa_year[cols[0:20]]\n",
    "        \n",
    "        csa_year.to_csv('C:/Users/hp/CSA_AGRI_DATA/csa_data_version101/field_info1_1998.csv',index = False)\n",
    "    elif year == 1999:\n",
    "        columns = ['reg', 'zone', 'fweight', 'crop', 'irrg', 'trees', 'seedtype', 'damage', 'dreason', 'dpercent', 'dmeasure', 'dmtype', 'dmchem', 'fert', 'ferttype', 'd22A', 'd23', 'apercent', 'enumarea', 'comparea', 'areab', 'prod99q']\n",
    "        column = ['REG', 'ZONE', 'FWEIGHT', 'CROP', 'IRRG', 'TREES', 'SEEDTYPE', 'DAMAGE', 'DREASON', 'DPERCENT', 'DMEASURE', 'DMTYPE', 'DMCHEM', 'FERT', 'FERTTYPE', 'D22A', 'D23', 'APERCENT', 'ENUMAREA', 'COMPAREA', 'AREAB', 'PRODQ']\n",
    "    \n",
    "        cols=list(csa_year.columns.values)\n",
    "        csa_year = csa_year[cols[0:20]]\n",
    "        \n",
    "        csa_year.to_csv('C:/Users/hp/CSA_AGRI_DATA/csa_data_version101/field_info1_1999.csv',index = False)\n",
    "    elif year == 2000:\n",
    "        columns = ['REG', 'ZONE', 'FWEIGHT', 'CROP', 'IRRG', 'TREES', 'SEEDTYPE', 'DAMAGE', 'DREASON', 'DPERCENT', 'DMEASURE', 'DMTYPE', 'DMCHEM', 'FERT', 'FERTTYPE', 'D22A', 'D23', 'APERCENT', 'ENUMAREA', 'COMPAREA', 'AREA', 'PODQ','PROD']\n",
    "        cols=list(csa_year.columns.values)\n",
    "        csa_year = csa_year[cols[0:20]]\n",
    "        \n",
    "        csa_year.to_csv('C:/Users/hp/CSA_AGRI_DATA/csa_data_version101/field_info1_2000.csv',index = False)\n",
    "    elif year == 2001:\n",
    "        columns = ['REG', 'ZONE', 'FWEIGHT', 'CROP', 'IRRG', 'TREES', 'SEEDTYPE', 'DAMAGE', 'DREASON', 'DPERCENT', 'DMEASURE', 'DMTYPE', 'DMCHEM', 'FERT', 'FERTTYPE', 'D22A', 'D23', 'APERCENT', 'ENUMAREA', 'COMPAREA', 'AREAH', 'PODQ']\n",
    "        cols=list(csa_year.columns.values)\n",
    "        csa_year = csa_year[cols[0:20]]\n",
    "        \n",
    "        csa_year.to_csv('C:/Users/hp/CSA_AGRI_DATA/csa_data_version101/field_info1_2001.csv',index = False)\n",
    "    elif year == 2004:\n",
    "        columns = ['REG', 'ZONE', 'FWEIGHT', 'CROP', 'IRRG', 'TREES', 'SEEDTYPE', 'DAMAGE', 'DREASON', 'DPERCENT', 'DMEASURE', 'DMTYPE', 'DMCHEM', 'FERT', 'FERTTYPE', 'D22A', 'D23', 'APERCENT', 'ENUMAREA', 'COMPAREA', 'AREA', 'PROD98FA']\n",
    "        cols=list(csa_year.columns.values)\n",
    "        csa_year = csa_year[cols[0:18] + cols[19:21]]\n",
    "        \n",
    "        csa_year.to_csv('C:/Users/hp/CSA_AGRI_DATA/csa_data_version101/field_info1_2005.csv',index = False)\n",
    "    elif year == 2005:\n",
    "        columns = ['REG', 'ZONE', 'FWEIGHT', 'CROP', 'IRRG', 'TREES', 'SEEDTYPE', 'DAMAGE', 'DREASON', 'DPERCENT', 'DMEASURE', 'DMTYPE', 'DMCHEM', 'FERT', 'FERTTYPE', 'D22A', 'D23', 'APERCENT', 'ENUMAREA', 'COMPAREA', 'AREA', 'PROD98FA']\n",
    "        cols=list(csa_year.columns.values)\n",
    "        csa_year = csa_year[cols[0:17] + cols[18:21]]\n",
    "        \n",
    "        csa_year.to_csv('C:/Users/hp/CSA_AGRI_DATA/csa_data_version101/field_info1_2005.csv',index = False)\n",
    "    elif year == 2006:\n",
    "        columns = ['REG', 'ZONE', 'FWEIGHT', 'CROP', 'IRRG', 'TREES', 'SEEDTYPE', 'DAMAGE', 'DREASON', 'DPERCENT', 'DMEASURE', 'DMTYPE', 'DMCHEM', 'FERT', 'FERTTYPE', 'D22A', 'D23', 'APERCENT', 'ENUMAREA', 'COMPAREA', 'AREA', 'PROD98FA']\n",
    "        cols=list(csa_year.columns.values)\n",
    "        csa_year = csa_year[cols[0:20]]\n",
    "        \n",
    "        csa_year.to_csv('C:/Users/hp/CSA_AGRI_DATA/csa_data_version101/field_info1_2006.csv',index = False)\n",
    "    elif year == 2008:\n",
    "        columns = ['REG', 'ZONE', 'FWEIGHT', 'CROP', 'IRRG', 'TREES', 'SEEDTYPE', 'DAMAGE', 'DREASON', 'DPERCENT', 'DMEASURE', 'DMTYPE', 'DMCHEM', 'FERT', 'FERTTYPE', 'D22A', 'D23', 'APERCENT', 'ENUMAREA', 'COMPAREA', 'AREA', 'PROD98FA']\n",
    "        cols=list(csa_year.columns.values)\n",
    "        csa_year = csa_year[cols[0:15] + [cols[16]] + cols[18:22]]\n",
    "        \n",
    "        csa_year.to_csv('C:/Users/hp/CSA_AGRI_DATA/csa_data_version101/field_info1_2008.csv',index = False)\n",
    "    elif year == 2009:\n",
    "        columns = ['REG', 'ZONE', 'FWEIGHT', 'CROP', 'IRRG', 'TREES', 'SEEDTYPE', 'DAMAGE', 'DREASON', 'DPERCENT', 'DMEASURE', 'DMTYPE', 'DMCHEM', 'FERT', 'FERTTYPE', 'D22A', 'D23', 'APERCENT', 'ENUMAREA', 'COMPAREA', 'AREA', 'PROD98FA']\n",
    "        cols=list(csa_year.columns.values)\n",
    "        csa_year = csa_year[cols[0:20]]\n",
    "        \n",
    "        csa_year.to_csv('C:/Users/hp/CSA_AGRI_DATA/csa_data_version101/field_info1_2009.csv',index = False)\n",
    "    elif year == 2010:\n",
    "        columns = ['REG', 'ZONE', 'FWEIGHT', 'CROP', 'IRRG', 'TREES', 'SEEDTYPE', 'DAMAGE', 'DREASON', 'DPERCENT', 'DMEASURE', 'DMTYPE', 'DMCHEM', 'FERT', 'FERTTYPE', 'D22A', 'D23', 'APERCENT', 'ENUMAREA', 'COMPAREA', 'AREA', 'PROD98FA']\n",
    "        cols=list(csa_year.columns.values)\n",
    "        csa_year = csa_year[cols[0:20]]\n",
    "        \n",
    "        csa_year.to_csv('C:/Users/hp/CSA_AGRI_DATA/csa_data_version101/field_info1_2010.csv',index = False)\n",
    "    elif year == 2011:\n",
    "        columns = ['REG', 'ZONE', 'FWEIGHT', 'CROP', 'IRRG', 'TREES', 'SEEDTYPE', 'DAMAGE', 'DREASON', 'DPERCENT', 'DMEASURE', 'DMTYPE', 'DMCHEM', 'FERT', 'FERTTYPE', 'D22A', 'D23', 'APERCENT', 'ENUMAREA', 'COMPAREA', 'AREA', 'PROD98FA']\n",
    "        cols=list(csa_year.columns.values)\n",
    "        csa_year = csa_year[cols[0:20]]\n",
    "        \n",
    "        csa_year.to_csv('C:/Users/hp/CSA_AGRI_DATA/csa_data_version101/field_info1_2011.csv',index = False)\n"
   ]
  },
  {
   "cell_type": "code",
   "execution_count": 69,
   "metadata": {},
   "outputs": [],
   "source": [
    "featureselection1(1996,year1996)"
   ]
  },
  {
   "cell_type": "code",
   "execution_count": 70,
   "metadata": {},
   "outputs": [],
   "source": [
    "featureselection1(1997,year1997)"
   ]
  },
  {
   "cell_type": "code",
   "execution_count": 71,
   "metadata": {},
   "outputs": [],
   "source": [
    "featureselection1(1998,year1998)"
   ]
  },
  {
   "cell_type": "code",
   "execution_count": 72,
   "metadata": {},
   "outputs": [],
   "source": [
    "featureselection1(1999,year1999)"
   ]
  },
  {
   "cell_type": "code",
   "execution_count": 73,
   "metadata": {},
   "outputs": [],
   "source": [
    "featureselection1(2000,year2000)"
   ]
  },
  {
   "cell_type": "code",
   "execution_count": 74,
   "metadata": {},
   "outputs": [],
   "source": [
    "featureselection1(2001,year2001)"
   ]
  },
  {
   "cell_type": "code",
   "execution_count": null,
   "metadata": {},
   "outputs": [],
   "source": [
    "featureselection1(2004,year2004)"
   ]
  },
  {
   "cell_type": "code",
   "execution_count": 75,
   "metadata": {},
   "outputs": [],
   "source": [
    "featureselection1(2005,year2005)"
   ]
  },
  {
   "cell_type": "code",
   "execution_count": 76,
   "metadata": {},
   "outputs": [],
   "source": [
    "featureselection1(2006,year2006)"
   ]
  },
  {
   "cell_type": "code",
   "execution_count": 77,
   "metadata": {},
   "outputs": [],
   "source": [
    "featureselection1(2008,year2008)"
   ]
  },
  {
   "cell_type": "code",
   "execution_count": 78,
   "metadata": {},
   "outputs": [],
   "source": [
    "featureselection1(2009,year2009)"
   ]
  },
  {
   "cell_type": "code",
   "execution_count": 79,
   "metadata": {},
   "outputs": [],
   "source": [
    "featureselection1(2010,year2010)"
   ]
  },
  {
   "cell_type": "code",
   "execution_count": 80,
   "metadata": {},
   "outputs": [],
   "source": [
    "featureselection1(2011,year2011)"
   ]
  },
  {
   "cell_type": "code",
   "execution_count": 13,
   "metadata": {},
   "outputs": [],
   "source": []
  },
  {
   "cell_type": "code",
   "execution_count": null,
   "metadata": {},
   "outputs": [],
   "source": []
  }
 ],
 "metadata": {
  "kernelspec": {
   "display_name": "Python 3",
   "language": "python",
   "name": "python3"
  },
  "language_info": {
   "codemirror_mode": {
    "name": "ipython",
    "version": 3
   },
   "file_extension": ".py",
   "mimetype": "text/x-python",
   "name": "python",
   "nbconvert_exporter": "python",
   "pygments_lexer": "ipython3",
   "version": "3.7.3"
  }
 },
 "nbformat": 4,
 "nbformat_minor": 2
}
