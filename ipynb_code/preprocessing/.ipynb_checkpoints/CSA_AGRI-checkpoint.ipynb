{
 "cells": [
  {
   "cell_type": "markdown",
   "metadata": {},
   "source": [
    "# In this note book we will select the most important features to put in our machine learnin model"
   ]
  },
  {
   "cell_type": "code",
   "execution_count": null,
   "metadata": {},
   "outputs": [],
   "source": [
    "import pandas as pd\n",
    "import numpy as np"
   ]
  },
  {
   "cell_type": "markdown",
   "metadata": {},
   "source": [
    "Here we load our data set"
   ]
  },
  {
   "cell_type": "code",
   "execution_count": 2,
   "metadata": {},
   "outputs": [
    {
     "name": "stderr",
     "output_type": "stream",
     "text": [
      "C:\\Users\\hp\\Anaconda3\\lib\\site-packages\\IPython\\core\\interactiveshell.py:3057: DtypeWarning: Columns (7,11,12,13,14,15) have mixed types. Specify dtype option on import or set low_memory=False.\n",
      "  interactivity=interactivity, compiler=compiler, result=result)\n"
     ]
    }
   ],
   "source": [
    "year1996 = pd.read_csv(\"C:/Users/hp/CSA_AGRI_DATA/2003 - 2004/Field Information - 1996.csv\")"
   ]
  },
  {
   "cell_type": "code",
   "execution_count": 52,
   "metadata": {},
   "outputs": [
    {
     "name": "stderr",
     "output_type": "stream",
     "text": [
      "C:\\Users\\hp\\Anaconda3\\lib\\site-packages\\IPython\\core\\interactiveshell.py:3057: DtypeWarning: Columns (13,14,40,41) have mixed types. Specify dtype option on import or set low_memory=False.\n",
      "  interactivity=interactivity, compiler=compiler, result=result)\n"
     ]
    }
   ],
   "source": [
    "year1997 = pd.read_csv(\"C:/Users/hp/CSA_AGRI_DATA/2004 - 2005/Field Information - 1997.csv\")"
   ]
  },
  {
   "cell_type": "code",
   "execution_count": 86,
   "metadata": {},
   "outputs": [
    {
     "name": "stderr",
     "output_type": "stream",
     "text": [
      "C:\\Users\\hp\\Anaconda3\\lib\\site-packages\\IPython\\core\\interactiveshell.py:3057: DtypeWarning: Columns (12,13,39,40) have mixed types. Specify dtype option on import or set low_memory=False.\n",
      "  interactivity=interactivity, compiler=compiler, result=result)\n"
     ]
    }
   ],
   "source": [
    "year1998 = pd.read_csv(\"C:/Users/hp/CSA_AGRI_DATA/2005 - 2006/Field Information - 1998.csv\")"
   ]
  },
  {
   "cell_type": "code",
   "execution_count": 2,
   "metadata": {},
   "outputs": [
    {
     "name": "stderr",
     "output_type": "stream",
     "text": [
      "C:\\Users\\hp\\Anaconda3\\lib\\site-packages\\IPython\\core\\interactiveshell.py:3057: DtypeWarning: Columns (43,47,53) have mixed types. Specify dtype option on import or set low_memory=False.\n",
      "  interactivity=interactivity, compiler=compiler, result=result)\n"
     ]
    }
   ],
   "source": [
    "year1999 = pd.read_csv(\"C:/Users/hp/CSA_AGRI_DATA/2006 - 2007/Field Information - 1999.csv\")"
   ]
  },
  {
   "cell_type": "code",
   "execution_count": 27,
   "metadata": {},
   "outputs": [
    {
     "name": "stderr",
     "output_type": "stream",
     "text": [
      "C:\\Users\\hp\\Anaconda3\\lib\\site-packages\\IPython\\core\\interactiveshell.py:3057: DtypeWarning: Columns (5,14,40,44,45) have mixed types. Specify dtype option on import or set low_memory=False.\n",
      "  interactivity=interactivity, compiler=compiler, result=result)\n"
     ]
    }
   ],
   "source": [
    "year2000 = pd.read_csv(\"C:/Users/hp/CSA_AGRI_DATA/2007 - 2008/Field Information - 2000.csv\")"
   ]
  },
  {
   "cell_type": "code",
   "execution_count": 44,
   "metadata": {},
   "outputs": [
    {
     "name": "stderr",
     "output_type": "stream",
     "text": [
      "C:\\Users\\hp\\Anaconda3\\lib\\site-packages\\IPython\\core\\interactiveshell.py:3057: DtypeWarning: Columns (32,39,40,44) have mixed types. Specify dtype option on import or set low_memory=False.\n",
      "  interactivity=interactivity, compiler=compiler, result=result)\n"
     ]
    }
   ],
   "source": [
    "year2001 = pd.read_csv(\"C:/Users/hp/CSA_AGRI_DATA/2008 - 2009/Field Information - 2001.csv\")"
   ]
  },
  {
   "cell_type": "code",
   "execution_count": 2,
   "metadata": {},
   "outputs": [
    {
     "name": "stderr",
     "output_type": "stream",
     "text": [
      "C:\\Users\\hp\\Anaconda3\\lib\\site-packages\\IPython\\core\\interactiveshell.py:3057: DtypeWarning: Columns (31,38,39,41) have mixed types. Specify dtype option on import or set low_memory=False.\n",
      "  interactivity=interactivity, compiler=compiler, result=result)\n"
     ]
    }
   ],
   "source": [
    "year2002 = pd.read_csv(\"C:/Users/hp/CSA_AGRI_DATA/2009 - 2010/Field Information - 2002.csv\")"
   ]
  },
  {
   "cell_type": "code",
   "execution_count": 16,
   "metadata": {},
   "outputs": [
    {
     "name": "stderr",
     "output_type": "stream",
     "text": [
      "C:\\Users\\hp\\Anaconda3\\lib\\site-packages\\IPython\\core\\interactiveshell.py:3057: DtypeWarning: Columns (8,31,38,39) have mixed types. Specify dtype option on import or set low_memory=False.\n",
      "  interactivity=interactivity, compiler=compiler, result=result)\n"
     ]
    }
   ],
   "source": [
    "year2003 = pd.read_csv(\"C:/Users/hp/CSA_AGRI_DATA/2010 - 2011/Field Information - 2003.csv\")"
   ]
  },
  {
   "cell_type": "code",
   "execution_count": 2,
   "metadata": {},
   "outputs": [
    {
     "name": "stderr",
     "output_type": "stream",
     "text": [
      "C:\\Users\\hp\\Anaconda3\\lib\\site-packages\\IPython\\core\\interactiveshell.py:3057: DtypeWarning: Columns (6,7,9,10,14,44) have mixed types. Specify dtype option on import or set low_memory=False.\n",
      "  interactivity=interactivity, compiler=compiler, result=result)\n"
     ]
    }
   ],
   "source": [
    "year2004 = pd.read_csv(\"C:/Users/hp/CSA_AGRI_DATA/2011 - 2012/Field Information - 2004.csv\")"
   ]
  },
  {
   "cell_type": "code",
   "execution_count": 19,
   "metadata": {},
   "outputs": [
    {
     "name": "stderr",
     "output_type": "stream",
     "text": [
      "C:\\Users\\hp\\Anaconda3\\lib\\site-packages\\IPython\\core\\interactiveshell.py:3057: DtypeWarning: Columns (9,34,44,47,48,49,53,54) have mixed types. Specify dtype option on import or set low_memory=False.\n",
      "  interactivity=interactivity, compiler=compiler, result=result)\n"
     ]
    }
   ],
   "source": [
    "year2005 = pd.read_csv(\"C:/Users/hp/CSA_AGRI_DATA/2012 - 2013/Field Information - 2005.csv\")"
   ]
  },
  {
   "cell_type": "code",
   "execution_count": 41,
   "metadata": {},
   "outputs": [
    {
     "name": "stderr",
     "output_type": "stream",
     "text": [
      "C:\\Users\\hp\\Anaconda3\\lib\\site-packages\\IPython\\core\\interactiveshell.py:3057: DtypeWarning: Columns (35,45,48,49,50) have mixed types. Specify dtype option on import or set low_memory=False.\n",
      "  interactivity=interactivity, compiler=compiler, result=result)\n"
     ]
    }
   ],
   "source": [
    "year2006 = pd.read_csv(\"C:/Users/hp/CSA_AGRI_DATA/2013 - 2014/Field Information - 2006.csv\")"
   ]
  },
  {
   "cell_type": "code",
   "execution_count": 2,
   "metadata": {},
   "outputs": [
    {
     "name": "stderr",
     "output_type": "stream",
     "text": [
      "C:\\Users\\hp\\Anaconda3\\lib\\site-packages\\IPython\\core\\interactiveshell.py:3057: DtypeWarning: Columns (48,53,55,56) have mixed types. Specify dtype option on import or set low_memory=False.\n",
      "  interactivity=interactivity, compiler=compiler, result=result)\n"
     ]
    }
   ],
   "source": [
    "year2007 = pd.read_csv(\"C:/Users/hp/CSA_AGRI_DATA/2014 - 2015/Field Information - 2007.csv\")"
   ]
  },
  {
   "cell_type": "code",
   "execution_count": 77,
   "metadata": {},
   "outputs": [
    {
     "name": "stderr",
     "output_type": "stream",
     "text": [
      "C:\\Users\\hp\\Anaconda3\\lib\\site-packages\\IPython\\core\\interactiveshell.py:3057: DtypeWarning: Columns (7,11,12,13,14,15) have mixed types. Specify dtype option on import or set low_memory=False.\n",
      "  interactivity=interactivity, compiler=compiler, result=result)\n"
     ]
    }
   ],
   "source": [
    "year2008 = pd.read_csv(\"C:/Users/hp/CSA_AGRI_DATA/2015 - 2016/Field Information - 2008.csv\")"
   ]
  },
  {
   "cell_type": "code",
   "execution_count": 92,
   "metadata": {},
   "outputs": [
    {
     "name": "stderr",
     "output_type": "stream",
     "text": [
      "C:\\Users\\hp\\Anaconda3\\lib\\site-packages\\IPython\\core\\interactiveshell.py:3057: DtypeWarning: Columns (6,35,48,50,51,52,53,55,57) have mixed types. Specify dtype option on import or set low_memory=False.\n",
      "  interactivity=interactivity, compiler=compiler, result=result)\n"
     ]
    }
   ],
   "source": [
    "year2009 = pd.read_csv(\"C:/Users/hp/CSA_AGRI_DATA/2016 - 2017/Field Information - 2009.csv\")"
   ]
  },
  {
   "cell_type": "code",
   "execution_count": 109,
   "metadata": {},
   "outputs": [
    {
     "name": "stderr",
     "output_type": "stream",
     "text": [
      "C:\\Users\\hp\\Anaconda3\\lib\\site-packages\\IPython\\core\\interactiveshell.py:3057: DtypeWarning: Columns (52,53,54) have mixed types. Specify dtype option on import or set low_memory=False.\n",
      "  interactivity=interactivity, compiler=compiler, result=result)\n"
     ]
    }
   ],
   "source": [
    "year2010 = pd.read_csv(\"C:/Users/hp/CSA_AGRI_DATA/2017 - 2018/Field Information - 2010.csv\")"
   ]
  },
  {
   "cell_type": "code",
   "execution_count": 125,
   "metadata": {},
   "outputs": [
    {
     "name": "stderr",
     "output_type": "stream",
     "text": [
      "C:\\Users\\hp\\Anaconda3\\lib\\site-packages\\IPython\\core\\interactiveshell.py:3057: DtypeWarning: Columns (8,19,42) have mixed types. Specify dtype option on import or set low_memory=False.\n",
      "  interactivity=interactivity, compiler=compiler, result=result)\n"
     ]
    }
   ],
   "source": [
    "year2011 = pd.read_csv(\"C:/Users/hp/CSA_AGRI_DATA/2018 - 2019/Field Information - 2011.csv\")"
   ]
  },
  {
   "cell_type": "code",
   "execution_count": 142,
   "metadata": {},
   "outputs": [
    {
     "name": "stderr",
     "output_type": "stream",
     "text": [
      "C:\\Users\\hp\\Anaconda3\\lib\\site-packages\\IPython\\core\\interactiveshell.py:3057: DtypeWarning: Columns (14,52,53,58) have mixed types. Specify dtype option on import or set low_memory=False.\n",
      "  interactivity=interactivity, compiler=compiler, result=result)\n"
     ]
    }
   ],
   "source": [
    "year2012 = pd.read_csv(\"C:/Users/hp/CSA_AGRI_DATA/2019 - 2020/Field Information - 2012.csv\")"
   ]
  },
  {
   "cell_type": "code",
   "execution_count": 3,
   "metadata": {},
   "outputs": [
    {
     "data": {
      "text/html": [
       "<div>\n",
       "<style scoped>\n",
       "    .dataframe tbody tr th:only-of-type {\n",
       "        vertical-align: middle;\n",
       "    }\n",
       "\n",
       "    .dataframe tbody tr th {\n",
       "        vertical-align: top;\n",
       "    }\n",
       "\n",
       "    .dataframe thead th {\n",
       "        text-align: right;\n",
       "    }\n",
       "</style>\n",
       "<table border=\"1\" class=\"dataframe\">\n",
       "  <thead>\n",
       "    <tr style=\"text-align: right;\">\n",
       "      <th></th>\n",
       "      <th>REC$TYPE</th>\n",
       "      <th>REG</th>\n",
       "      <th>ZONE</th>\n",
       "      <th>DIST</th>\n",
       "      <th>FA</th>\n",
       "      <th>EA</th>\n",
       "      <th>HH</th>\n",
       "      <th>HHSEX</th>\n",
       "      <th>HID</th>\n",
       "      <th>PARCEL</th>\n",
       "      <th>...</th>\n",
       "      <th>D24</th>\n",
       "      <th>D25</th>\n",
       "      <th>D26</th>\n",
       "      <th>APERCENT</th>\n",
       "      <th>CERROR</th>\n",
       "      <th>AREB</th>\n",
       "      <th>ENUMAREA</th>\n",
       "      <th>COMPAREA</th>\n",
       "      <th>LANDUSE</th>\n",
       "      <th>PRODUCT</th>\n",
       "    </tr>\n",
       "  </thead>\n",
       "  <tbody>\n",
       "    <tr>\n",
       "      <th>0</th>\n",
       "      <td>50</td>\n",
       "      <td>1</td>\n",
       "      <td>1</td>\n",
       "      <td>1</td>\n",
       "      <td>2</td>\n",
       "      <td>3</td>\n",
       "      <td>2</td>\n",
       "      <td>1</td>\n",
       "      <td>1</td>\n",
       "      <td>1</td>\n",
       "      <td>...</td>\n",
       "      <td></td>\n",
       "      <td></td>\n",
       "      <td>5</td>\n",
       "      <td>100</td>\n",
       "      <td>4.22</td>\n",
       "      <td>5402</td>\n",
       "      <td>54.02</td>\n",
       "      <td>54.02</td>\n",
       "      <td>6</td>\n",
       "      <td></td>\n",
       "    </tr>\n",
       "    <tr>\n",
       "      <th>1</th>\n",
       "      <td>50</td>\n",
       "      <td>1</td>\n",
       "      <td>1</td>\n",
       "      <td>1</td>\n",
       "      <td>2</td>\n",
       "      <td>3</td>\n",
       "      <td>2</td>\n",
       "      <td>1</td>\n",
       "      <td>1</td>\n",
       "      <td>1</td>\n",
       "      <td>...</td>\n",
       "      <td>1</td>\n",
       "      <td></td>\n",
       "      <td>2</td>\n",
       "      <td>100</td>\n",
       "      <td>1.28</td>\n",
       "      <td>5027</td>\n",
       "      <td>50.27</td>\n",
       "      <td>50.27</td>\n",
       "      <td>1</td>\n",
       "      <td>7641</td>\n",
       "    </tr>\n",
       "    <tr>\n",
       "      <th>2</th>\n",
       "      <td>50</td>\n",
       "      <td>1</td>\n",
       "      <td>1</td>\n",
       "      <td>1</td>\n",
       "      <td>2</td>\n",
       "      <td>3</td>\n",
       "      <td>9</td>\n",
       "      <td>1</td>\n",
       "      <td>1</td>\n",
       "      <td>1</td>\n",
       "      <td>...</td>\n",
       "      <td></td>\n",
       "      <td></td>\n",
       "      <td>5</td>\n",
       "      <td>100</td>\n",
       "      <td>4.93</td>\n",
       "      <td>2802</td>\n",
       "      <td>28.02</td>\n",
       "      <td>28.02</td>\n",
       "      <td>6</td>\n",
       "      <td></td>\n",
       "    </tr>\n",
       "    <tr>\n",
       "      <th>3</th>\n",
       "      <td>50</td>\n",
       "      <td>1</td>\n",
       "      <td>1</td>\n",
       "      <td>1</td>\n",
       "      <td>2</td>\n",
       "      <td>3</td>\n",
       "      <td>9</td>\n",
       "      <td>1</td>\n",
       "      <td>1</td>\n",
       "      <td>1</td>\n",
       "      <td>...</td>\n",
       "      <td>1</td>\n",
       "      <td></td>\n",
       "      <td>2</td>\n",
       "      <td>100</td>\n",
       "      <td>1.93</td>\n",
       "      <td>3127</td>\n",
       "      <td>31.27</td>\n",
       "      <td>31.27</td>\n",
       "      <td>1</td>\n",
       "      <td>4753</td>\n",
       "    </tr>\n",
       "    <tr>\n",
       "      <th>4</th>\n",
       "      <td>50</td>\n",
       "      <td>1</td>\n",
       "      <td>1</td>\n",
       "      <td>1</td>\n",
       "      <td>2</td>\n",
       "      <td>3</td>\n",
       "      <td>9</td>\n",
       "      <td>1</td>\n",
       "      <td>1</td>\n",
       "      <td>2</td>\n",
       "      <td>...</td>\n",
       "      <td>1</td>\n",
       "      <td></td>\n",
       "      <td>2</td>\n",
       "      <td>100</td>\n",
       "      <td>3.72</td>\n",
       "      <td>13378</td>\n",
       "      <td>133.78</td>\n",
       "      <td>133.78</td>\n",
       "      <td>1</td>\n",
       "      <td>20335</td>\n",
       "    </tr>\n",
       "  </tbody>\n",
       "</table>\n",
       "<p>5 rows × 49 columns</p>\n",
       "</div>"
      ],
      "text/plain": [
       "   REC$TYPE  REG  ZONE  DIST  FA  EA HH HHSEX  HID PARCEL  ... D24  D25  D26  \\\n",
       "0        50    1     1     1   2   3  2     1    1      1  ...             5   \n",
       "1        50    1     1     1   2   3  2     1    1      1  ...   1         2   \n",
       "2        50    1     1     1   2   3  9     1    1      1  ...             5   \n",
       "3        50    1     1     1   2   3  9     1    1      1  ...   1         2   \n",
       "4        50    1     1     1   2   3  9     1    1      2  ...   1         2   \n",
       "\n",
       "   APERCENT CERROR   AREB ENUMAREA COMPAREA LANDUSE PRODUCT  \n",
       "0       100   4.22   5402    54.02    54.02       6          \n",
       "1       100   1.28   5027    50.27    50.27       1    7641  \n",
       "2       100   4.93   2802    28.02    28.02       6          \n",
       "3       100   1.93   3127    31.27    31.27       1    4753  \n",
       "4       100   3.72  13378   133.78   133.78       1   20335  \n",
       "\n",
       "[5 rows x 49 columns]"
      ]
     },
     "execution_count": 3,
     "metadata": {},
     "output_type": "execute_result"
    }
   ],
   "source": [
    "year2004.head()"
   ]
  },
  {
   "cell_type": "markdown",
   "metadata": {},
   "source": [
    "Now we will select the columns needed to be used and remove the rest"
   ]
  },
  {
   "cell_type": "code",
   "execution_count": 51,
   "metadata": {},
   "outputs": [],
   "source": [
    "def featureselection1(year, csa_year):\n",
    "    if year == 1996:\n",
    "        columns = ['reg', 'zone', 'fweight', 'crop', 'irrg', 'trees', 'seedtype', 'damage', 'dreason', 'dpercent', 'dmeasure', 'dmtype', 'dmchem', 'fert', 'ferttype', 'chemtype', 'natutyp', 'apercent', 'enumarea', 'comparea', 'area', 'prodq', 'prod']\n",
    "        \n",
    "        column = ['REG', 'ZONE', 'FWEIGHT', 'CROP', 'IRRG', 'TREES', 'SEEDTYPE', 'DAMAGE', 'DREASON', 'DPERCENT', 'DMEASURE', 'DMTYPE', 'DMCHEM', 'FERT', 'FERTTYPE', 'D22A', 'D23', 'APERCENT', 'ENUMAREA', 'COMPAREA', 'AREA', 'PRODQ', 'PROD']\n",
    "        cols=list(csa_year.columns.values)\n",
    "        csa_year = csa_year[[cols[0]] + [cols[1]] + [cols[19]] + [cols[21]] + [cols[26]] + [cols[24]] + [cols[27]] + cols[31:39] + [cols[40]] + cols[42:44] + cols[49:51] + [cols[52]] + cols[55:57]]\n",
    "    \n",
    "        csa_year.to_csv('C:/Users/hp/CSA_AGRI_DATA/csa_data_version1/field_info1_1996.csv',index = False)\n",
    "    \n",
    "    elif year == 1997:\n",
    "        columns = ['v01', 'v02', 'fweight', 'crop', 'irrg', 'trees', 'seedtype', 'damage', 'dreason', 'dpercent', 'dmeasure', 'dmtype', 'dmchem', 'fert', 'ferttype', 'd21a', 'd22', 'apercent', 'enumarea', 'comparea', 'area','prodq', 'prod']\n",
    "        column = ['REG', 'ZONE', 'FWEIGHT', 'CROP', 'IRRG', 'TREES', 'SEEDTYPE', 'DAMAGE', 'DREASON', 'DPERCENT', 'DMEASURE', 'DMTYPE', 'DMCHEM', 'FERT', 'FERTTYPE', 'D22A', 'D23', 'APERCENT', 'ENUMAREA', 'COMPAREA', 'AREA', 'PROD']\n",
    "        \n",
    "        cols=list(csa_year.columns.values)\n",
    "        csa_year = csa_year[cols[1:3] + [cols[11]] + [cols[13]] + [cols[18]] + [cols[16]] + [cols[19]] + cols[23:32] + cols[33:35] + cols[38:40] + [cols[41]] + cols[42:44]]\n",
    "    \n",
    "        csa_year.to_csv('C:/Users/hp/CSA_AGRI_DATA/csa_data_version1/field_info1_1997.csv',index = False)\n",
    "    \n",
    "    elif year == 1998:\n",
    "        columns = ['region', 'zone', 'FWEIGHT', 'CROP', 'IRRG', 'TREES', 'SEEDTYPE', 'DAMAGE', 'DREASON', 'DPERCENT', 'DMEASURE', 'DMTYPE', 'DMCHEM', 'FERT', 'FERTTYPE', 'D21A', 'D22', 'APERCENT', 'ENUMAREA', 'COMPAREA', 'AREA', 'PROD']\n",
    "        column = ['REG', 'ZONE', 'FWEIGHT', 'CROP', 'IRRG', 'TREES', 'SEEDTYPE', 'DAMAGE', 'DREASON', 'DPERCENT', 'DMEASURE', 'DMTYPE', 'DMCHEM', 'FERT', 'FERTTYPE', 'D22A', 'D23', 'APERCENT', 'ENUMAREA', 'COMPAREA', 'AREA', 'PROD']\n",
    "    \n",
    "        cols=list(csa_year.columns.values)\n",
    "        csa_year = csa_year[cols[0:2] + [cols[10]] + [cols[12]] + [cols[17]] + [cols[15]] + [cols[18]] + cols[22:31] + cols[32:34] + cols[37:39] + cols[40:43]]\n",
    "    \n",
    "        csa_year.to_csv('C:/Users/hp/CSA_AGRI_DATA/csa_data_version1/field_info1_1998.csv',index = False)\n",
    "    elif year == 1999:\n",
    "        columns = ['reg', 'zone', 'fweight', 'crop', 'irrg', 'trees', 'seedtype', 'damage', 'dreason', 'dpercent', 'dmeasure', 'dmtype', 'dmchem', 'fert', 'ferttype', 'd22A', 'd23', 'apercent', 'enumarea', 'comparea', 'areab', 'prod99q']\n",
    "        column = ['REG', 'ZONE', 'FWEIGHT', 'CROP', 'IRRG', 'TREES', 'SEEDTYPE', 'DAMAGE', 'DREASON', 'DPERCENT', 'DMEASURE', 'DMTYPE', 'DMCHEM', 'FERT', 'FERTTYPE', 'D22A', 'D23', 'APERCENT', 'ENUMAREA', 'COMPAREA', 'AREAB', 'PRODQ']\n",
    "    \n",
    "        cols=list(csa_year.columns.values)\n",
    "        csa_year = csa_year[cols[1:3] + [cols[11]] + [cols[14]] + [cols[17]] + [cols[21]] + [cols[23]] + cols[27:36] + [cols[37]] + [cols[43]] + cols[45:48] + [cols[54]]]\n",
    "    \n",
    "        csa_year.to_csv('C:/Users/hp/CSA_AGRI_DATA/csa_data_version1/field_info1_1999.csv',index = False)\n",
    "    elif year == 2000:\n",
    "        columns = ['REG', 'ZONE', 'FWEIGHT', 'CROP', 'IRRG', 'TREES', 'SEEDTYPE', 'DAMAGE', 'DREASON', 'DPERCENT', 'DMEASURE', 'DMTYPE', 'DMCHEM', 'FERT', 'FERTTYPE', 'D22A', 'D23', 'APERCENT', 'ENUMAREA', 'COMPAREA', 'AREA', 'PODQ','PROD']\n",
    "        cols=list(csa_year.columns.values)\n",
    "        csa_year = csa_year[cols[0:2] + [cols[10]] + [cols[13]] + [cols[16]] + [cols[20]] + [cols[22]] + cols[26:35] + [cols[36]] + [cols[40]] + cols[42:44] + [cols[45]] + cols[49:51]]\n",
    "        csa_year.to_csv('C:/Users/hp/CSA_AGRI_DATA/csa_data_version1/field_info1_2000.csv',index = False)\n",
    "    elif year == 2001:\n",
    "        columns = ['REG', 'ZONE', 'FWEIGHT', 'CROP', 'IRRG', 'TREES', 'SEEDTYPE', 'DAMAGE', 'DREASON', 'DPERCENT', 'DMEASURE', 'DMTYPE', 'DMCHEM', 'FERT', 'FERTTYPE', 'D22A', 'D23', 'APERCENT', 'ENUMAREA', 'COMPAREA', 'AREAH', 'PODQ']\n",
    "        cols=list(csa_year.columns.values)\n",
    "        csa_year = csa_year[cols[0:2] + [cols[10]] + [cols[13]] + [cols[16]] + [cols[20]] + [cols[22]] + cols[26:35] + [cols[36]] + [cols[40]] + cols[42:44] + [cols[45]] + [cols[46]]]\n",
    "    \n",
    "        csa_year.to_csv('C:/Users/hp/CSA_AGRI_DATA/csa_data_version1/field_info1_2001.csv',index = False)\n",
    "    elif year == 2002:\n",
    "        columns = ['REG', 'ZONE', 'FWEIGHT', 'CROP', 'IRRG', 'TREES', 'SEEDTYPE', 'DAMAGE', 'DREASON', 'DPERCENT', 'DMEASURE', 'DMTYPE', 'DMCHEM', 'FERT', 'FERTTYPE', 'D22A', 'D23', 'APERCENT', 'ENUMAREA', 'COMPAREA', 'AREA', 'PODQ','PROD']\n",
    "        cols=list(csa_year.columns.values)\n",
    "        csa_year = csa_year[cols[0:2] + [cols[10]] + [cols[12]] + [cols[15]] + [cols[19]] + [cols[21]] + cols[25:34] + [cols[35]] + [cols[39]] + cols[41:43]]\n",
    "        \n",
    "        csa_year.to_csv('C:/Users/hp/CSA_AGRI_DATA/csa_data_version1/field_info1_2002.csv',index = False)\n",
    "    elif year == 2003:\n",
    "        columns = ['REG', 'ZONE', 'FWEIGHT', 'CROP', 'IRRG', 'TREES', 'SEEDTYPE', 'DAMAGE', 'DREASON', 'DPERCENT', 'DMEASURE', 'DMTYPE', 'DMCHEM', 'FERT', 'FERTTYPE', 'D22A', 'D23', 'APERCENT', 'ENUMAREA', 'COMPAREA', 'AREA', 'PODQ','PROD']\n",
    "        cols=list(csa_year.columns.values)\n",
    "        csa_year = csa_year[cols[0:2] + [cols[10]] + [cols[12]] + [cols[15]] + [cols[19]] + [cols[21]] + cols[25:34] + [cols[35]] + [cols[39]] + [cols[41]]]\n",
    "        \n",
    "        csa_year.to_csv('C:/Users/hp/CSA_AGRI_DATA/csa_data_version1/field_info1_2003.csv',index = False)\n",
    "    elif year == 2004:\n",
    "        columns = ['REG', 'ZONE', 'FWEIGHT', 'CROP', 'IRRG', 'TREES', 'SEEDTYPE', 'DAMAGE', 'DREASON', 'DPERCENT', 'DMEASURE', 'DMTYPE', 'DMCHEM', 'FERT', 'FERTTYPE', 'D22A', 'D23', 'APERCENT', 'ENUMAREA', 'COMPAREA', 'AREA', 'PODQ','PROD']\n",
    "        cols=list(csa_year.columns.values)\n",
    "        csa_year = csa_year[cols[1:3] + [cols[11]] + [cols[13]] + [cols[16]] + [cols[20]] + [cols[22]] + cols[26:35] + [cols[38]] + [cols[42]] + cols[44:47] + [cols[48]]]\n",
    "        \n",
    "        csa_year.to_csv('C:/Users/hp/CSA_AGRI_DATA/csa_data_version1/field_info1_2004.csv',index = False)\n",
    "    elif year == 2005:\n",
    "        columns = ['REG', 'ZONE', 'FWEIGHT', 'CROP', 'IRRG', 'TREES', 'SEEDTYPE', 'DAMAGE', 'DREASON', 'DPERCENT', 'DMEASURE', 'DMTYPE', 'DMCHEM', 'FERT', 'FERTTYPE', 'D22A', 'D23', 'APERCENT', 'ENUMAREA', 'COMPAREA', 'AREA', 'PROD98FA']\n",
    "        cols=list(csa_year.columns.values)\n",
    "        csa_year = csa_year[cols[1:3] + [cols[11]] + [cols[13]] + [cols[16]] + [cols[21]] + [cols[24]] + cols[28:37] + [cols[41]] + [cols[43]] + [cols[45]] + cols[50:52] + [cols[49]] + [cols[67]]]\n",
    "    \n",
    "        csa_year.to_csv('C:/Users/hp/CSA_AGRI_DATA/csa_data_version1/field_info1_2005.csv',index = False)\n",
    "    elif year == 2006:\n",
    "        columns = ['REG', 'ZONE', 'FWEIGHT', 'CROP', 'IRRG', 'TREES', 'SEEDTYPE', 'DAMAGE', 'DREASON', 'DPERCENT', 'DMEASURE', 'DMTYPE', 'DMCHEM', 'FERT', 'FERTTYPE', 'D22A', 'D23', 'APERCENT', 'ENUMAREA', 'COMPAREA', 'AREA', 'PROD98FA']\n",
    "        cols=list(csa_year.columns.values)\n",
    "        csa_year = csa_year[cols[1:3] + [cols[11]] + [cols[13]] + [cols[16]] + [cols[21]] + [cols[25]] + cols[29:38] + [cols[42]] + [cols[46]] + cols[51:53] + [cols[50]] + [cols[49]] + [cols[68]]]\n",
    "    \n",
    "        csa_year.to_csv('C:/Users/hp/CSA_AGRI_DATA/csa_data_version1/field_info1_2006.csv',index = False)\n",
    "    elif year == 2007:\n",
    "        columns = ['REG', 'ZONE', 'FWEIGHT', 'CROP', 'IRRG', 'TREES', 'SEEDTYPE', 'DAMAGE', 'DREASON', 'DPERCENT', 'DMEASURE', 'DMTYPE', 'DMCHEM', 'FERT', 'FERTTYPE', 'D22A', 'D23', 'APERCENT', 'ENUMAREA', 'COMPAREA', 'AREA', 'PROD98FA']\n",
    "        cols=list(csa_year.columns.values)\n",
    "        csa_year = csa_year[cols[1:3] + [cols[11]] + [cols[13]] + [cols[16]] + [cols[21]] + [cols[25]] + cols[29:38] + [cols[42]] + [cols[47]] + cols[52:54] + [cols[51]] + [cols[49]] + [cols[69]]]\n",
    "    \n",
    "        csa_year.to_csv('C:/Users/hp/CSA_AGRI_DATA/csa_data_version1/field_info1_2007.csv',index = False)\n",
    "    elif year == 2008:\n",
    "        columns = ['REG', 'ZONE', 'FWEIGHT', 'CROP', 'IRRG', 'TREES', 'SEEDTYPE', 'DAMAGE', 'DREASON', 'DPERCENT', 'DMEASURE', 'DMTYPE', 'DMCHEM', 'FERT', 'FERTTYPE', 'D22A', 'D23', 'APERCENT', 'ENUMAREA', 'COMPAREA', 'AREA', 'PROD98FA']\n",
    "        cols=list(csa_year.columns.values)\n",
    "        csa_year = csa_year[cols[0:2] + [cols[19]] + [cols[21]] + [cols[26]] + [cols[24]] + [cols[27]] + cols[31:44] + cols[49:51] + [cols[52]] + cols[55:57]]\n",
    "    \n",
    "        csa_year.to_csv('C:/Users/hp/CSA_AGRI_DATA/csa_data_version1/field_info1_2008.csv',index = False)\n",
    "    elif year == 2009:\n",
    "        columns = ['REG', 'ZONE', 'FWEIGHT', 'CROP', 'IRRG', 'TREES', 'SEEDTYPE', 'DAMAGE', 'DREASON', 'DPERCENT', 'DMEASURE', 'DMTYPE', 'DMCHEM', 'FERT', 'FERTTYPE', 'D22A', 'D23', 'APERCENT', 'ENUMAREA', 'COMPAREA', 'AREA', 'PROD98FA']\n",
    "        cols=list(csa_year.columns.values)\n",
    "        csa_year = csa_year[cols[1:3] + [cols[11]] + [cols[13]] + [cols[16]] + [cols[21]] + [cols[25]] + cols[29:38] + [cols[45]] + [cols[49]] + cols[54:56] + [cols[53]] + [cols[71]]]\n",
    "    \n",
    "        csa_year.to_csv('C:/Users/hp/CSA_AGRI_DATA/csa_data_version1/field_info1_2009.csv',index = False)\n",
    "    elif year == 2010:\n",
    "        columns = ['REG', 'ZONE', 'FWEIGHT', 'CROP', 'IRRG', 'TREES', 'SEEDTYPE', 'DAMAGE', 'DREASON', 'DPERCENT', 'DMEASURE', 'DMTYPE', 'DMCHEM', 'FERT', 'FERTTYPE', 'D22A', 'D23', 'APERCENT', 'ENUMAREA', 'COMPAREA', 'AREA', 'PROD98FA']\n",
    "        cols=list(csa_year.columns.values)\n",
    "        csa_year = csa_year[cols[1:3] + [cols[11]] + [cols[13]] + [cols[16]] + [cols[21]] + [cols[25]] + cols[29:38] + [cols[46]] + [cols[50]] + cols[55:57] + [cols[54]] + [cols[72]]]\n",
    "    \n",
    "        csa_year.to_csv('C:/Users/hp/CSA_AGRI_DATA/csa_data_version1/field_info1_2010.csv',index = False)\n",
    "    elif year == 2011:\n",
    "        columns = ['REG', 'ZONE', 'FWEIGHT', 'CROP', 'IRRG', 'TREES', 'SEEDTYPE', 'DAMAGE', 'DREASON', 'DPERCENT', 'DMEASURE', 'DMTYPE', 'DMCHEM', 'FERT', 'FERTTYPE', 'D22A', 'D23', 'APERCENT', 'ENUMAREA', 'COMPAREA', 'AREA', 'PROD98FA']\n",
    "        cols=list(csa_year.columns.values)\n",
    "        csa_year = csa_year[cols[1:3] + [cols[11]] + [cols[13]] + [cols[16]] + [cols[26]] + [cols[30]] + cols[36:45] + [cols[49]] + [cols[53]] + cols[58:60] + [cols[57]] + [cols[75]]]\n",
    "    \n",
    "        csa_year.to_csv('C:/Users/hp/CSA_AGRI_DATA/csa_data_version1/field_info1_2011.csv',index = False)\n",
    "    elif year == 2012:\n",
    "        columns = ['REG', 'ZONE', 'FWEIGHT', 'CROP', 'IRRG', 'TREES', 'SEEDTYPE', 'DAMAGE', 'DREASON', 'DPERCENT', 'DMEASURE', 'DMTYPE', 'DMCHEM', 'FERT', 'FERTTYPE', 'D22A', 'D23', 'APERCENT', 'ENUMAREA', 'COMPAREA', 'AREA', 'PROD98FA']\n",
    "        cols=list(csa_year.columns.values)\n",
    "        csa_year = csa_year[cols[1:3] + [cols[11]] + [cols[13]] + [cols[16]] + [cols[26]] + [cols[30]] + cols[36:45] + [cols[49]] + [cols[53]] + cols[57:59] + [cols[56]] + [cols[71]]]\n",
    "    \n",
    "        csa_year.to_csv('C:/Users/hp/CSA_AGRI_DATA/csa_data_version1/field_info1_2012.csv',index = False)"
   ]
  },
  {
   "cell_type": "code",
   "execution_count": null,
   "metadata": {},
   "outputs": [],
   "source": [
    "featureselection1(1996,year1996)"
   ]
  },
  {
   "cell_type": "markdown",
   "metadata": {},
   "source": [
    "###############################################################################################################################"
   ]
  },
  {
   "cell_type": "code",
   "execution_count": null,
   "metadata": {},
   "outputs": [],
   "source": []
  },
  {
   "cell_type": "code",
   "execution_count": 43,
   "metadata": {},
   "outputs": [],
   "source": [
    "def featureselection1(csa_year):\n",
    "    columns = ['REG', 'ZONE', 'FWEIGHT', 'CROP', 'IRRG', 'TREES', 'SEEDTYPE', 'DAMAGE', 'DREASON', 'DPERCENT', 'DMEASURE', 'DMTYPE', 'DMCHEM', 'FERT', 'FERTTYPE', 'D22A', 'D23', 'APERCENT', 'ENUMAREA', 'COMPAREA', 'AREA', 'PODQ','PROD']\n",
    "    cols=list(csa_year.columns.values)\n",
    "    csa_year = csa_year[cols[0:2] + [cols[10]] + [cols[13]] + [cols[16]] + [cols[20]] + [cols[22]] + cols[26:35] + [cols[36]] + [cols[40]] + cols[42:44] + [cols[45]] + cols[49:51]]\n",
    "    csa_year.to_csv('C:/Users/hp/CSA_AGRI_DATA/csa_data_version1/field_info1_2000.csv',index = False)\n",
    "featureselection1(year2000)\n",
    "#featureselection1(year2001)"
   ]
  },
  {
   "cell_type": "code",
   "execution_count": 25,
   "metadata": {},
   "outputs": [],
   "source": [
    "def featureselection2(csa_year):\n",
    "    columns = ['reg', 'zone', 'fweight', 'crop', 'irrg', 'trees', 'seedtype', 'damage', 'dreason', 'dpercent', 'dmeasure', 'dmtype', 'dmchem', 'fert', 'ferttype', 'chemtype', 'natutyp', 'apercent', 'enumarea', 'comparea', 'area', 'prodq', 'prod']\n",
    "    column = ['REG', 'ZONE', 'FWEIGHT', 'CROP', 'IRRG', 'TREES', 'SEEDTYPE', 'DAMAGE', 'DREASON', 'DPERCENT', 'DMEASURE', 'DMTYPE', 'DMCHEM', 'FERT', 'FERTTYPE', 'D22A', 'D23', 'APERCENT', 'ENUMAREA', 'COMPAREA', 'AREA', 'PRODQ', 'PROD']\n",
    "    cols=list(csa_year.columns.values)\n",
    "    csa_year = csa_year[[cols[0]] + [cols[1]] + [cols[19]] + [cols[21]] + [cols[26]] + [cols[24]] + [cols[27]] + cols[31:39] + [cols[40]] + cols[42:44] + cols[49:51] + [cols[52]] + cols[55:57]]\n",
    "    \n",
    "    csa_year.to_csv('C:/Users/hp/CSA_AGRI_DATA/csa_data_version1/field_info1_1996.csv',index = False)\n",
    "    \n",
    "\n",
    "featureselection2(year1996)"
   ]
  },
  {
   "cell_type": "code",
   "execution_count": 51,
   "metadata": {},
   "outputs": [],
   "source": [
    "def featureselection3(csa_year):\n",
    "    columns = ['REG', 'ZONE', 'FWEIGHT', 'CROP', 'IRRG', 'TREES', 'SEEDTYPE', 'DAMAGE', 'DREASON', 'DPERCENT', 'DMEASURE', 'DMTYPE', 'DMCHEM', 'FERT', 'FERTTYPE', 'D22A', 'D23', 'APERCENT', 'ENUMAREA', 'COMPAREA', 'AREAH', 'PODQ']\n",
    "    cols=list(csa_year.columns.values)\n",
    "    csa_year = csa_year[cols[0:2] + [cols[10]] + [cols[13]] + [cols[16]] + [cols[20]] + [cols[22]] + cols[26:35] + [cols[36]] + [cols[40]] + cols[42:44] + [cols[45]] + [cols[46]]]\n",
    "    \n",
    "    csa_year.to_csv('C:/Users/hp/CSA_AGRI_DATA/csa_data_version1/field_info1_2001.csv',index = False)\n",
    "#featureselection1(year2000)\n",
    "featureselection3(year2001)"
   ]
  },
  {
   "cell_type": "code",
   "execution_count": 85,
   "metadata": {},
   "outputs": [],
   "source": [
    "def featureselection4(csa_year):\n",
    "    columns = ['v01', 'v02', 'fweight', 'crop', 'irrg', 'trees', 'seedtype', 'damage', 'dreason', 'dpercent', 'dmeasure', 'dmtype', 'dmchem', 'fert', 'ferttype', 'd21a', 'd22', 'apercent', 'enumarea', 'comparea', 'area','prodq', 'prod']\n",
    "    column = ['REG', 'ZONE', 'FWEIGHT', 'CROP', 'IRRG', 'TREES', 'SEEDTYPE', 'DAMAGE', 'DREASON', 'DPERCENT', 'DMEASURE', 'DMTYPE', 'DMCHEM', 'FERT', 'FERTTYPE', 'D22A', 'D23', 'APERCENT', 'ENUMAREA', 'COMPAREA', 'AREA', 'PROD']\n",
    "    cols=list(csa_year.columns.values)\n",
    "    csa_year = csa_year[cols[1:3] + [cols[11]] + [cols[13]] + [cols[18]] + [cols[16]] + [cols[19]] + cols[23:32] + cols[33:35] + cols[38:40] + [cols[41]] + cols[42:44]]\n",
    "    \n",
    "    csa_year.to_csv('C:/Users/hp/CSA_AGRI_DATA/csa_data_version1/field_info1_1997.csv',index = False)\n",
    "\n",
    "featureselection4(year1997)   "
   ]
  },
  {
   "cell_type": "code",
   "execution_count": 107,
   "metadata": {},
   "outputs": [],
   "source": [
    "def featureselection5(csa_year):\n",
    "    columns = ['region', 'zone', 'FWEIGHT', 'CROP', 'IRRG', 'TREES', 'SEEDTYPE', 'DAMAGE', 'DREASON', 'DPERCENT', 'DMEASURE', 'DMTYPE', 'DMCHEM', 'FERT', 'FERTTYPE', 'D21A', 'D22', 'APERCENT', 'ENUMAREA', 'COMPAREA', 'AREA', 'PROD']\n",
    "    column = ['REG', 'ZONE', 'FWEIGHT', 'CROP', 'IRRG', 'TREES', 'SEEDTYPE', 'DAMAGE', 'DREASON', 'DPERCENT', 'DMEASURE', 'DMTYPE', 'DMCHEM', 'FERT', 'FERTTYPE', 'D22A', 'D23', 'APERCENT', 'ENUMAREA', 'COMPAREA', 'AREA', 'PROD']\n",
    "    \n",
    "    cols=list(csa_year.columns.values)\n",
    "    csa_year = csa_year[cols[0:2] + [cols[10]] + [cols[12]] + [cols[17]] + [cols[15]] + [cols[18]] + cols[22:31] + cols[32:34] + cols[37:39] + cols[40:43]]\n",
    "    \n",
    "    csa_year.to_csv('C:/Users/hp/CSA_AGRI_DATA/csa_data_version1/field_info1_1998.csv',index = False)\n",
    "featureselection5(year1998)"
   ]
  },
  {
   "cell_type": "code",
   "execution_count": 18,
   "metadata": {},
   "outputs": [],
   "source": [
    "def featureselection6(csa_year):\n",
    "    columns = ['reg', 'zone', 'fweight', 'crop', 'irrg', 'trees', 'seedtype', 'damage', 'dreason', 'dpercent', 'dmeasure', 'dmtype', 'dmchem', 'fert', 'ferttype', 'd22A', 'd23', 'apercent', 'enumarea', 'comparea', 'areab', 'prod99q']\n",
    "    column = ['REG', 'ZONE', 'FWEIGHT', 'CROP', 'IRRG', 'TREES', 'SEEDTYPE', 'DAMAGE', 'DREASON', 'DPERCENT', 'DMEASURE', 'DMTYPE', 'DMCHEM', 'FERT', 'FERTTYPE', 'D22A', 'D23', 'APERCENT', 'ENUMAREA', 'COMPAREA', 'AREAB', 'PRODQ']\n",
    "    \n",
    "    cols=list(csa_year.columns.values)\n",
    "    csa_year = csa_year[cols[1:3] + [cols[11]] + [cols[14]] + [cols[17]] + [cols[21]] + [cols[23]] + cols[27:36] + [cols[37]] + [cols[43]] + cols[45:48] + [cols[54]]]\n",
    "    \n",
    "    csa_year.to_csv('C:/Users/hp/CSA_AGRI_DATA/csa_data_version1/field_info1_1999.csv',index = False)\n",
    "featureselection6(year1999)"
   ]
  },
  {
   "cell_type": "code",
   "execution_count": 15,
   "metadata": {},
   "outputs": [],
   "source": [
    "def featureselection1(csa_year):\n",
    "    columns = ['REG', 'ZONE', 'FWEIGHT', 'CROP', 'IRRG', 'TREES', 'SEEDTYPE', 'DAMAGE', 'DREASON', 'DPERCENT', 'DMEASURE', 'DMTYPE', 'DMCHEM', 'FERT', 'FERTTYPE', 'D22A', 'D23', 'APERCENT', 'ENUMAREA', 'COMPAREA', 'AREA', 'PODQ','PROD']\n",
    "    cols=list(csa_year.columns.values)\n",
    "    csa_year = csa_year[cols[0:2] + [cols[10]] + [cols[12]] + [cols[15]] + [cols[19]] + [cols[21]] + cols[25:34] + [cols[35]] + [cols[39]] + cols[41:43]]\n",
    "    csa_year.to_csv('C:/Users/hp/CSA_AGRI_DATA/csa_data_version1/field_info1_2002.csv',index = False)\n",
    "featureselection1(year2002)"
   ]
  },
  {
   "cell_type": "code",
   "execution_count": 27,
   "metadata": {},
   "outputs": [],
   "source": [
    "def featureselection1(csa_year):\n",
    "    columns = ['REG', 'ZONE', 'FWEIGHT', 'CROP', 'IRRG', 'TREES', 'SEEDTYPE', 'DAMAGE', 'DREASON', 'DPERCENT', 'DMEASURE', 'DMTYPE', 'DMCHEM', 'FERT', 'FERTTYPE', 'D22A', 'D23', 'APERCENT', 'ENUMAREA', 'COMPAREA', 'AREA', 'PODQ','PROD']\n",
    "    cols=list(csa_year.columns.values)\n",
    "    csa_year = csa_year[cols[0:2] + [cols[10]] + [cols[12]] + [cols[15]] + [cols[19]] + [cols[21]] + cols[25:34] + [cols[35]] + [cols[39]] + [cols[41]]]\n",
    "    csa_year.to_csv('C:/Users/hp/CSA_AGRI_DATA/csa_data_version1/field_info1_2003.csv',index = False)\n",
    "featureselection1(year2003)\n",
    "#featureselection1(year2001)"
   ]
  },
  {
   "cell_type": "code",
   "execution_count": null,
   "metadata": {},
   "outputs": [],
   "source": [
    "def featureselection1(csa_year):\n",
    "    columns = ['REG', 'ZONE', 'FWEIGHT', 'CROP', 'IRRG', 'TREES', 'SEEDTYPE', 'DAMAGE', 'DREASON', 'DPERCENT', 'DMEASURE', 'DMTYPE', 'DMCHEM', 'FERT', 'FERTTYPE', 'D22A', 'D23', 'APERCENT', 'ENUMAREA', 'COMPAREA', 'AREA', 'PODQ','PROD']\n",
    "    cols=list(csa_year.columns.values)\n",
    "    csa_year = csa_year[cols[1:3] + [cols[11]] + [cols[13]] + [cols[16]] + [cols[20]] + [cols[22]] + cols[26:35] + [cols[38]] + [cols[42]] + cols[44:47] + [cols[48]]]\n",
    "    csa_year.to_csv('C:/Users/hp/CSA_AGRI_DATA/csa_data_version1/field_info1_2004.csv',index = False)\n",
    "featureselection1(year2004)\n",
    "#featureselection1(year2001)"
   ]
  },
  {
   "cell_type": "code",
   "execution_count": 60,
   "metadata": {},
   "outputs": [],
   "source": [
    "def featureselection7(csa_year):\n",
    "    columns = ['REG', 'ZONE', 'FWEIGHT', 'CROP', 'IRRG', 'TREES', 'SEEDTYPE', 'DAMAGE', 'DREASON', 'DPERCENT', 'DMEASURE', 'DMTYPE', 'DMCHEM', 'FERT', 'FERTTYPE', 'D22A', 'D23', 'APERCENT', 'ENUMAREA', 'COMPAREA', 'AREA', 'PROD98FA']\n",
    "    cols=list(csa_year.columns.values)\n",
    "    csa_year = csa_year[cols[1:3] + [cols[11]] + [cols[13]] + [cols[16]] + [cols[21]] + [cols[25]] + cols[29:38] + [cols[42]] + [cols[46]] + cols[51:53] + [cols[50]] + [cols[49]] + [cols[68]]]\n",
    "    \n",
    "    csa_year.to_csv('C:/Users/hp/CSA_AGRI_DATA/csa_data_version1/field_info1_2006.csv',index = False)\n",
    "featureselection7(year2006)"
   ]
  },
  {
   "cell_type": "code",
   "execution_count": null,
   "metadata": {},
   "outputs": [],
   "source": [
    "def featureselection8(csa_year):\n",
    "    columns = ['REG', 'ZONE', 'FWEIGHT', 'CROP', 'IRRG', 'TREES', 'SEEDTYPE', 'DAMAGE', 'DREASON', 'DPERCENT', 'DMEASURE', 'DMTYPE', 'DMCHEM', 'FERT', 'FERTTYPE', 'D22A', 'D23', 'APERCENT', 'ENUMAREA', 'COMPAREA', 'AREA', 'PROD98FA']\n",
    "    cols=list(csa_year.columns.values)\n",
    "    csa_year = csa_year[cols[1:3] + [cols[11]] + [cols[13]] + [cols[16]] + [cols[21]] + [cols[24]] + cols[28:37] + [cols[41]] + [cols[43]] + [cols[45]] + cols[50:52] + [cols[49]] + [cols[67]]]\n",
    "    \n",
    "    csa_year.to_csv('C:/Users/hp/CSA_AGRI_DATA/csa_data_version1/field_info1_2005.csv',index = False)\n",
    "featureselection8(year2005)"
   ]
  },
  {
   "cell_type": "code",
   "execution_count": 7,
   "metadata": {},
   "outputs": [],
   "source": [
    "def featureselection9(csa_year):\n",
    "    columns = ['REG', 'ZONE', 'FWEIGHT', 'CROP', 'IRRG', 'TREES', 'SEEDTYPE', 'DAMAGE', 'DREASON', 'DPERCENT', 'DMEASURE', 'DMTYPE', 'DMCHEM', 'FERT', 'FERTTYPE', 'D22A', 'D23', 'APERCENT', 'ENUMAREA', 'COMPAREA', 'AREA', 'PROD98FA']\n",
    "    cols=list(csa_year.columns.values)\n",
    "    csa_year = csa_year[cols[1:3] + [cols[11]] + [cols[13]] + [cols[16]] + [cols[21]] + [cols[25]] + cols[29:38] + [cols[43]] + [cols[48]] + cols[52:54] + [cols[51]] + [cols[49]] + [cols[69]]]\n",
    "    \n",
    "    csa_year.to_csv('C:/Users/hp/CSA_AGRI_DATA/csa_data_version1/field_info1_2007.csv',index = False)\n",
    "featureselection9(year2007)"
   ]
  },
  {
   "cell_type": "code",
   "execution_count": 91,
   "metadata": {},
   "outputs": [],
   "source": [
    "def featureselection10(csa_year):\n",
    "    columns = ['REG', 'ZONE', 'FWEIGHT', 'CROP', 'IRRG', 'TREES', 'SEEDTYPE', 'DAMAGE', 'DREASON', 'DPERCENT', 'DMEASURE', 'DMTYPE', 'DMCHEM', 'FERT', 'FERTTYPE', 'D22A', 'D23', 'APERCENT', 'ENUMAREA', 'COMPAREA', 'AREA', 'PROD98FA']\n",
    "    cols=list(csa_year.columns.values)\n",
    "    csa_year = csa_year[cols[0:2] + [cols[19]] + [cols[21]] + [cols[26]] + [cols[24]] + [cols[27]] + cols[31:44] + cols[49:51] + [cols[52]] + cols[55:57]]\n",
    "    \n",
    "    csa_year.to_csv('C:/Users/hp/CSA_AGRI_DATA/csa_data_version1/field_info1_2008.csv',index = False)\n",
    "featureselection10(year2008)"
   ]
  },
  {
   "cell_type": "code",
   "execution_count": 108,
   "metadata": {},
   "outputs": [],
   "source": [
    "def featureselection11(csa_year):\n",
    "    columns = ['REG', 'ZONE', 'FWEIGHT', 'CROP', 'IRRG', 'TREES', 'SEEDTYPE', 'DAMAGE', 'DREASON', 'DPERCENT', 'DMEASURE', 'DMTYPE', 'DMCHEM', 'FERT', 'FERTTYPE', 'D22A', 'D23', 'APERCENT', 'ENUMAREA', 'COMPAREA', 'AREA', 'PROD98FA']\n",
    "    cols=list(csa_year.columns.values)\n",
    "    csa_year = csa_year[cols[1:3] + [cols[11]] + [cols[13]] + [cols[16]] + [cols[21]] + [cols[25]] + cols[29:38] + [cols[45]] + [cols[49]] + cols[54:56] + [cols[53]] + [cols[71]]]\n",
    "    \n",
    "    csa_year.to_csv('C:/Users/hp/CSA_AGRI_DATA/csa_data_version1/field_info1_2009.csv',index = False)\n",
    "featureselection11(year2009)"
   ]
  },
  {
   "cell_type": "code",
   "execution_count": 124,
   "metadata": {},
   "outputs": [],
   "source": [
    "def featureselection12(csa_year):\n",
    "    columns = ['REG', 'ZONE', 'FWEIGHT', 'CROP', 'IRRG', 'TREES', 'SEEDTYPE', 'DAMAGE', 'DREASON', 'DPERCENT', 'DMEASURE', 'DMTYPE', 'DMCHEM', 'FERT', 'FERTTYPE', 'D22A', 'D23', 'APERCENT', 'ENUMAREA', 'COMPAREA', 'AREA', 'PROD98FA']\n",
    "    cols=list(csa_year.columns.values)\n",
    "    csa_year = csa_year[cols[1:3] + [cols[11]] + [cols[13]] + [cols[16]] + [cols[21]] + [cols[25]] + cols[29:38] + [cols[46]] + [cols[50]] + cols[55:57] + [cols[54]] + [cols[72]]]\n",
    "    \n",
    "    csa_year.to_csv('C:/Users/hp/CSA_AGRI_DATA/csa_data_version1/field_info1_2010.csv',index = False)\n",
    "featureselection12(year2010)"
   ]
  },
  {
   "cell_type": "code",
   "execution_count": null,
   "metadata": {},
   "outputs": [],
   "source": [
    "year2012.columns"
   ]
  },
  {
   "cell_type": "code",
   "execution_count": 160,
   "metadata": {},
   "outputs": [
    {
     "data": {
      "text/plain": [
       "'PROD98FA'"
      ]
     },
     "execution_count": 160,
     "metadata": {},
     "output_type": "execute_result"
    }
   ],
   "source": [
    "year2012.columns[71]"
   ]
  },
  {
   "cell_type": "code",
   "execution_count": 141,
   "metadata": {},
   "outputs": [],
   "source": [
    "def featureselection13(csa_year):\n",
    "    columns = ['REG', 'ZONE', 'FWEIGHT', 'CROP', 'IRRG', 'TREES', 'SEEDTYPE', 'DAMAGE', 'DREASON', 'DPERCENT', 'DMEASURE', 'DMTYPE', 'DMCHEM', 'FERT', 'FERTTYPE', 'D22A', 'D23', 'APERCENT', 'ENUMAREA', 'COMPAREA', 'AREA', 'PROD98FA']\n",
    "    cols=list(csa_year.columns.values)\n",
    "    csa_year = csa_year[cols[1:3] + [cols[11]] + [cols[13]] + [cols[16]] + [cols[26]] + [cols[30]] + cols[36:45] + [cols[49]] + [cols[53]] + cols[58:60] + [cols[57]] + [cols[75]]]\n",
    "    \n",
    "    csa_year.to_csv('C:/Users/hp/CSA_AGRI_DATA/csa_data_version1/field_info1_2011.csv',index = False)\n",
    "featureselection13(year2011)"
   ]
  },
  {
   "cell_type": "code",
   "execution_count": 161,
   "metadata": {},
   "outputs": [],
   "source": [
    "def featureselection14(csa_year):\n",
    "    columns = ['REG', 'ZONE', 'FWEIGHT', 'CROP', 'IRRG', 'TREES', 'SEEDTYPE', 'DAMAGE', 'DREASON', 'DPERCENT', 'DMEASURE', 'DMTYPE', 'DMCHEM', 'FERT', 'FERTTYPE', 'D22A', 'D23', 'APERCENT', 'ENUMAREA', 'COMPAREA', 'AREA', 'PROD98FA']\n",
    "    cols=list(csa_year.columns.values)\n",
    "    csa_year = csa_year[cols[1:3] + [cols[11]] + [cols[13]] + [cols[16]] + [cols[26]] + [cols[30]] + cols[36:45] + [cols[49]] + [cols[53]] + cols[57:59] + [cols[56]] + [cols[71]]]\n",
    "    \n",
    "    csa_year.to_csv('C:/Users/hp/CSA_AGRI_DATA/csa_data_version1/field_info1_2012.csv',index = False)\n",
    "featureselection14(year2012)"
   ]
  },
  {
   "cell_type": "markdown",
   "metadata": {},
   "source": [
    "###############################################################################################################################"
   ]
  },
  {
   "cell_type": "code",
   "execution_count": null,
   "metadata": {},
   "outputs": [],
   "source": []
  }
 ],
 "metadata": {
  "kernelspec": {
   "display_name": "Python 3",
   "language": "python",
   "name": "python3"
  },
  "language_info": {
   "codemirror_mode": {
    "name": "ipython",
    "version": 3
   },
   "file_extension": ".py",
   "mimetype": "text/x-python",
   "name": "python",
   "nbconvert_exporter": "python",
   "pygments_lexer": "ipython3",
   "version": "3.7.3"
  }
 },
 "nbformat": 4,
 "nbformat_minor": 2
}
