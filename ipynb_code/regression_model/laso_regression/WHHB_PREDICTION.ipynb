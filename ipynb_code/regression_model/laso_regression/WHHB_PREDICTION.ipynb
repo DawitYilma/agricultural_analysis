{
 "cells": [
  {
   "cell_type": "code",
   "execution_count": 1,
   "metadata": {},
   "outputs": [],
   "source": [
    "import numpy as np\n",
    "import pandas as pd\n",
    "\n",
    "# for plotting\n",
    "import matplotlib.pyplot as plt\n",
    "%matplotlib inline\n",
    "\n",
    "# to divide train and test set\n",
    "from sklearn.model_selection import train_test_split\n",
    "\n",
    "# feature scaling\n",
    "from sklearn.preprocessing import MinMaxScaler\n",
    "\n",
    "# to visualise al the columns in the dataframe\n",
    "pd.pandas.set_option('display.max_columns', None)"
   ]
  },
  {
   "cell_type": "code",
   "execution_count": 2,
   "metadata": {},
   "outputs": [],
   "source": [
    "from sklearn.linear_model import Lasso\n",
    "from sklearn.feature_selection import SelectFromModel"
   ]
  },
  {
   "cell_type": "code",
   "execution_count": 3,
   "metadata": {},
   "outputs": [],
   "source": [
    "from sklearn.metrics import mean_squared_error\n",
    "from math import sqrt"
   ]
  },
  {
   "cell_type": "code",
   "execution_count": 4,
   "metadata": {},
   "outputs": [
    {
     "data": {
      "text/html": [
       "<div>\n",
       "<style scoped>\n",
       "    .dataframe tbody tr th:only-of-type {\n",
       "        vertical-align: middle;\n",
       "    }\n",
       "\n",
       "    .dataframe tbody tr th {\n",
       "        vertical-align: top;\n",
       "    }\n",
       "\n",
       "    .dataframe thead th {\n",
       "        text-align: right;\n",
       "    }\n",
       "</style>\n",
       "<table border=\"1\" class=\"dataframe\">\n",
       "  <thead>\n",
       "    <tr style=\"text-align: right;\">\n",
       "      <th></th>\n",
       "      <th>Unnamed: 0</th>\n",
       "      <th>Zone</th>\n",
       "      <th>Year</th>\n",
       "      <th>PRECIP</th>\n",
       "      <th>TMPMAX</th>\n",
       "      <th>TMPMIN</th>\n",
       "      <th>RELHUM</th>\n",
       "      <th>WINDLY</th>\n",
       "      <th>SUNHRS</th>\n",
       "      <th>Irrg_Yes</th>\n",
       "      <th>Irrg_No</th>\n",
       "      <th>Seed_Improved</th>\n",
       "      <th>Seed_Not_Improved</th>\n",
       "      <th>Damage_Yes</th>\n",
       "      <th>Damage_No</th>\n",
       "      <th>Dreason_Crop_disease</th>\n",
       "      <th>Dreason_Frost</th>\n",
       "      <th>Dreason_Floods</th>\n",
       "      <th>Dreason_Locust</th>\n",
       "      <th>Dreason_Insects</th>\n",
       "      <th>Dreason_Toolittle_rain</th>\n",
       "      <th>Dreason_Toomuch_rain</th>\n",
       "      <th>Dreason_Wild_animals</th>\n",
       "      <th>Dreason_Birds</th>\n",
       "      <th>Dreason_Hail</th>\n",
       "      <th>Dreason_Weeds</th>\n",
       "      <th>Dreason_ShortageSeed</th>\n",
       "      <th>Dreason_DepletionSoil</th>\n",
       "      <th>Dreason_Security</th>\n",
       "      <th>Dreason_UseBadCrop</th>\n",
       "      <th>Dmeasure_Yes</th>\n",
       "      <th>Dmeasure_No</th>\n",
       "      <th>Dmtype_Chemical</th>\n",
       "      <th>Dmtype_NonChemical</th>\n",
       "      <th>Dmtype_Both</th>\n",
       "      <th>Dmchem_Insecticide</th>\n",
       "      <th>Dmchem_Herbicide</th>\n",
       "      <th>Dmchem_Fungicide</th>\n",
       "      <th>Dmchem_Insectcide_Her</th>\n",
       "      <th>Dmchem_Insectcide_Fun</th>\n",
       "      <th>Dmchem_Herbicide_Fung</th>\n",
       "      <th>Dmchem_All</th>\n",
       "      <th>Fert_Yes</th>\n",
       "      <th>Fert_No</th>\n",
       "      <th>Ferttype_Natural</th>\n",
       "      <th>Ferttype_Chemical</th>\n",
       "      <th>Ferttype_Both</th>\n",
       "      <th>D22a_Urea</th>\n",
       "      <th>D22a_DAP</th>\n",
       "      <th>D22a_Urea_DAP</th>\n",
       "      <th>D22a_NPS</th>\n",
       "      <th>D22a_Urea_NPS</th>\n",
       "      <th>D22a_Mixed</th>\n",
       "      <th>D23_Manure</th>\n",
       "      <th>D23_Compost</th>\n",
       "      <th>D23_Organic</th>\n",
       "      <th>D23_Manure_Compost</th>\n",
       "      <th>D23_Manure_Organic</th>\n",
       "      <th>D23_Compost_Organic</th>\n",
       "      <th>D23_All</th>\n",
       "      <th>Fweight</th>\n",
       "      <th>Area</th>\n",
       "      <th>Production</th>\n",
       "      <th>Yield</th>\n",
       "    </tr>\n",
       "  </thead>\n",
       "  <tbody>\n",
       "    <tr>\n",
       "      <th>0</th>\n",
       "      <td>0</td>\n",
       "      <td>1</td>\n",
       "      <td>1997</td>\n",
       "      <td>69.269978</td>\n",
       "      <td>29.656865</td>\n",
       "      <td>14.336538</td>\n",
       "      <td>52.592245</td>\n",
       "      <td>1.698718</td>\n",
       "      <td>12.359170</td>\n",
       "      <td>0.0</td>\n",
       "      <td>72.0</td>\n",
       "      <td>0.0</td>\n",
       "      <td>72.0</td>\n",
       "      <td>22.0</td>\n",
       "      <td>48.0</td>\n",
       "      <td>0.0</td>\n",
       "      <td>0.0</td>\n",
       "      <td>0.0</td>\n",
       "      <td>0.0</td>\n",
       "      <td>4.0</td>\n",
       "      <td>12.0</td>\n",
       "      <td>0.0</td>\n",
       "      <td>1.0</td>\n",
       "      <td>0.0</td>\n",
       "      <td>2.0</td>\n",
       "      <td>1.0</td>\n",
       "      <td>1.0</td>\n",
       "      <td>1.0</td>\n",
       "      <td>0</td>\n",
       "      <td>0.0</td>\n",
       "      <td>71.0</td>\n",
       "      <td>0.0</td>\n",
       "      <td>0.0</td>\n",
       "      <td>70.0</td>\n",
       "      <td>1.0</td>\n",
       "      <td>0.0</td>\n",
       "      <td>0.0</td>\n",
       "      <td>0.0</td>\n",
       "      <td>0.0</td>\n",
       "      <td>0.0</td>\n",
       "      <td>0</td>\n",
       "      <td>0</td>\n",
       "      <td>22.0</td>\n",
       "      <td>50.0</td>\n",
       "      <td>16.0</td>\n",
       "      <td>6.0</td>\n",
       "      <td>0.0</td>\n",
       "      <td>0.0</td>\n",
       "      <td>0.0</td>\n",
       "      <td>6.0</td>\n",
       "      <td>0.0</td>\n",
       "      <td>0.0</td>\n",
       "      <td>0</td>\n",
       "      <td>13.0</td>\n",
       "      <td>1.0</td>\n",
       "      <td>0</td>\n",
       "      <td>1.0</td>\n",
       "      <td>0.0</td>\n",
       "      <td>0</td>\n",
       "      <td>0.0</td>\n",
       "      <td>10983.27</td>\n",
       "      <td>293.375</td>\n",
       "      <td>2573.395</td>\n",
       "      <td>8.771692</td>\n",
       "    </tr>\n",
       "    <tr>\n",
       "      <th>1</th>\n",
       "      <td>1</td>\n",
       "      <td>2</td>\n",
       "      <td>1997</td>\n",
       "      <td>57.647542</td>\n",
       "      <td>29.802796</td>\n",
       "      <td>19.996551</td>\n",
       "      <td>45.495155</td>\n",
       "      <td>1.698718</td>\n",
       "      <td>34.862082</td>\n",
       "      <td>14.0</td>\n",
       "      <td>1449.0</td>\n",
       "      <td>6.0</td>\n",
       "      <td>1457.0</td>\n",
       "      <td>880.0</td>\n",
       "      <td>582.0</td>\n",
       "      <td>31.0</td>\n",
       "      <td>7.0</td>\n",
       "      <td>10.0</td>\n",
       "      <td>37.0</td>\n",
       "      <td>223.0</td>\n",
       "      <td>343.0</td>\n",
       "      <td>37.0</td>\n",
       "      <td>8.0</td>\n",
       "      <td>60.0</td>\n",
       "      <td>79.0</td>\n",
       "      <td>9.0</td>\n",
       "      <td>0.0</td>\n",
       "      <td>21.0</td>\n",
       "      <td>0</td>\n",
       "      <td>15.0</td>\n",
       "      <td>1430.0</td>\n",
       "      <td>32.0</td>\n",
       "      <td>42.0</td>\n",
       "      <td>1303.0</td>\n",
       "      <td>85.0</td>\n",
       "      <td>20.0</td>\n",
       "      <td>14.0</td>\n",
       "      <td>0.0</td>\n",
       "      <td>4.0</td>\n",
       "      <td>0.0</td>\n",
       "      <td>0</td>\n",
       "      <td>0</td>\n",
       "      <td>1103.0</td>\n",
       "      <td>360.0</td>\n",
       "      <td>648.0</td>\n",
       "      <td>246.0</td>\n",
       "      <td>196.0</td>\n",
       "      <td>18.0</td>\n",
       "      <td>12.0</td>\n",
       "      <td>408.0</td>\n",
       "      <td>0.0</td>\n",
       "      <td>0.0</td>\n",
       "      <td>0</td>\n",
       "      <td>570.0</td>\n",
       "      <td>81.0</td>\n",
       "      <td>0</td>\n",
       "      <td>177.0</td>\n",
       "      <td>0.0</td>\n",
       "      <td>0</td>\n",
       "      <td>0.0</td>\n",
       "      <td>305751.82</td>\n",
       "      <td>567.000</td>\n",
       "      <td>3117.000</td>\n",
       "      <td>5.500000</td>\n",
       "    </tr>\n",
       "    <tr>\n",
       "      <th>2</th>\n",
       "      <td>2</td>\n",
       "      <td>3</td>\n",
       "      <td>1997</td>\n",
       "      <td>34.947796</td>\n",
       "      <td>24.863651</td>\n",
       "      <td>9.024471</td>\n",
       "      <td>57.551787</td>\n",
       "      <td>7.858578</td>\n",
       "      <td>12.400941</td>\n",
       "      <td>25.0</td>\n",
       "      <td>2474.0</td>\n",
       "      <td>27.0</td>\n",
       "      <td>2472.0</td>\n",
       "      <td>2129.0</td>\n",
       "      <td>370.0</td>\n",
       "      <td>3.0</td>\n",
       "      <td>3.0</td>\n",
       "      <td>4.0</td>\n",
       "      <td>2.0</td>\n",
       "      <td>764.0</td>\n",
       "      <td>1259.0</td>\n",
       "      <td>14.0</td>\n",
       "      <td>12.0</td>\n",
       "      <td>11.0</td>\n",
       "      <td>29.0</td>\n",
       "      <td>6.0</td>\n",
       "      <td>0.0</td>\n",
       "      <td>9.0</td>\n",
       "      <td>0</td>\n",
       "      <td>13.0</td>\n",
       "      <td>2465.0</td>\n",
       "      <td>34.0</td>\n",
       "      <td>7.0</td>\n",
       "      <td>2447.0</td>\n",
       "      <td>11.0</td>\n",
       "      <td>0.0</td>\n",
       "      <td>2.0</td>\n",
       "      <td>0.0</td>\n",
       "      <td>0.0</td>\n",
       "      <td>0.0</td>\n",
       "      <td>0</td>\n",
       "      <td>0</td>\n",
       "      <td>1809.0</td>\n",
       "      <td>690.0</td>\n",
       "      <td>1110.0</td>\n",
       "      <td>401.0</td>\n",
       "      <td>297.0</td>\n",
       "      <td>58.0</td>\n",
       "      <td>128.0</td>\n",
       "      <td>510.0</td>\n",
       "      <td>0.0</td>\n",
       "      <td>0.0</td>\n",
       "      <td>0</td>\n",
       "      <td>978.0</td>\n",
       "      <td>255.0</td>\n",
       "      <td>0</td>\n",
       "      <td>156.0</td>\n",
       "      <td>0.0</td>\n",
       "      <td>0</td>\n",
       "      <td>0.0</td>\n",
       "      <td>348274.08</td>\n",
       "      <td>4.260</td>\n",
       "      <td>4446.041</td>\n",
       "      <td>29.270582</td>\n",
       "    </tr>\n",
       "    <tr>\n",
       "      <th>3</th>\n",
       "      <td>3</td>\n",
       "      <td>4</td>\n",
       "      <td>1997</td>\n",
       "      <td>60.206309</td>\n",
       "      <td>38.878724</td>\n",
       "      <td>26.824670</td>\n",
       "      <td>47.743268</td>\n",
       "      <td>10.645464</td>\n",
       "      <td>18.271932</td>\n",
       "      <td>0.0</td>\n",
       "      <td>74.0</td>\n",
       "      <td>0.0</td>\n",
       "      <td>74.0</td>\n",
       "      <td>1.0</td>\n",
       "      <td>73.0</td>\n",
       "      <td>0.0</td>\n",
       "      <td>0.0</td>\n",
       "      <td>1.0</td>\n",
       "      <td>0.0</td>\n",
       "      <td>0.0</td>\n",
       "      <td>0.0</td>\n",
       "      <td>0.0</td>\n",
       "      <td>0.0</td>\n",
       "      <td>0.0</td>\n",
       "      <td>0.0</td>\n",
       "      <td>0.0</td>\n",
       "      <td>0.0</td>\n",
       "      <td>0.0</td>\n",
       "      <td>0</td>\n",
       "      <td>0.0</td>\n",
       "      <td>73.0</td>\n",
       "      <td>1.0</td>\n",
       "      <td>0.0</td>\n",
       "      <td>73.0</td>\n",
       "      <td>0.0</td>\n",
       "      <td>0.0</td>\n",
       "      <td>0.0</td>\n",
       "      <td>0.0</td>\n",
       "      <td>0.0</td>\n",
       "      <td>0.0</td>\n",
       "      <td>0</td>\n",
       "      <td>0</td>\n",
       "      <td>52.0</td>\n",
       "      <td>22.0</td>\n",
       "      <td>43.0</td>\n",
       "      <td>9.0</td>\n",
       "      <td>0.0</td>\n",
       "      <td>0.0</td>\n",
       "      <td>0.0</td>\n",
       "      <td>7.0</td>\n",
       "      <td>0.0</td>\n",
       "      <td>0.0</td>\n",
       "      <td>0</td>\n",
       "      <td>29.0</td>\n",
       "      <td>10.0</td>\n",
       "      <td>0</td>\n",
       "      <td>4.0</td>\n",
       "      <td>0.0</td>\n",
       "      <td>0</td>\n",
       "      <td>0.0</td>\n",
       "      <td>6040.31</td>\n",
       "      <td>45.000</td>\n",
       "      <td>303.000</td>\n",
       "      <td>6.800000</td>\n",
       "    </tr>\n",
       "    <tr>\n",
       "      <th>4</th>\n",
       "      <td>4</td>\n",
       "      <td>1</td>\n",
       "      <td>1998</td>\n",
       "      <td>78.737179</td>\n",
       "      <td>27.805128</td>\n",
       "      <td>18.107981</td>\n",
       "      <td>52.592245</td>\n",
       "      <td>1.575641</td>\n",
       "      <td>11.397638</td>\n",
       "      <td>0.0</td>\n",
       "      <td>53.0</td>\n",
       "      <td>0.0</td>\n",
       "      <td>53.0</td>\n",
       "      <td>43.0</td>\n",
       "      <td>10.0</td>\n",
       "      <td>1.0</td>\n",
       "      <td>0.0</td>\n",
       "      <td>0.0</td>\n",
       "      <td>2.0</td>\n",
       "      <td>15.0</td>\n",
       "      <td>25.0</td>\n",
       "      <td>0.0</td>\n",
       "      <td>0.0</td>\n",
       "      <td>0.0</td>\n",
       "      <td>0.0</td>\n",
       "      <td>0.0</td>\n",
       "      <td>0.0</td>\n",
       "      <td>0.0</td>\n",
       "      <td>0</td>\n",
       "      <td>0.0</td>\n",
       "      <td>53.0</td>\n",
       "      <td>0.0</td>\n",
       "      <td>0.0</td>\n",
       "      <td>53.0</td>\n",
       "      <td>0.0</td>\n",
       "      <td>0.0</td>\n",
       "      <td>0.0</td>\n",
       "      <td>0.0</td>\n",
       "      <td>0.0</td>\n",
       "      <td>0.0</td>\n",
       "      <td>0</td>\n",
       "      <td>0</td>\n",
       "      <td>15.0</td>\n",
       "      <td>38.0</td>\n",
       "      <td>15.0</td>\n",
       "      <td>0.0</td>\n",
       "      <td>0.0</td>\n",
       "      <td>0.0</td>\n",
       "      <td>0.0</td>\n",
       "      <td>0.0</td>\n",
       "      <td>0.0</td>\n",
       "      <td>0.0</td>\n",
       "      <td>0</td>\n",
       "      <td>15.0</td>\n",
       "      <td>0.0</td>\n",
       "      <td>0</td>\n",
       "      <td>0.0</td>\n",
       "      <td>0.0</td>\n",
       "      <td>0</td>\n",
       "      <td>0.0</td>\n",
       "      <td>7806.76</td>\n",
       "      <td>561.820</td>\n",
       "      <td>2896.110</td>\n",
       "      <td>5.150000</td>\n",
       "    </tr>\n",
       "  </tbody>\n",
       "</table>\n",
       "</div>"
      ],
      "text/plain": [
       "   Unnamed: 0  Zone  Year     PRECIP     TMPMAX     TMPMIN     RELHUM  \\\n",
       "0           0     1  1997  69.269978  29.656865  14.336538  52.592245   \n",
       "1           1     2  1997  57.647542  29.802796  19.996551  45.495155   \n",
       "2           2     3  1997  34.947796  24.863651   9.024471  57.551787   \n",
       "3           3     4  1997  60.206309  38.878724  26.824670  47.743268   \n",
       "4           4     1  1998  78.737179  27.805128  18.107981  52.592245   \n",
       "\n",
       "      WINDLY     SUNHRS  Irrg_Yes  Irrg_No  Seed_Improved  Seed_Not_Improved  \\\n",
       "0   1.698718  12.359170       0.0     72.0            0.0               72.0   \n",
       "1   1.698718  34.862082      14.0   1449.0            6.0             1457.0   \n",
       "2   7.858578  12.400941      25.0   2474.0           27.0             2472.0   \n",
       "3  10.645464  18.271932       0.0     74.0            0.0               74.0   \n",
       "4   1.575641  11.397638       0.0     53.0            0.0               53.0   \n",
       "\n",
       "   Damage_Yes  Damage_No  Dreason_Crop_disease  Dreason_Frost  Dreason_Floods  \\\n",
       "0        22.0       48.0                   0.0            0.0             0.0   \n",
       "1       880.0      582.0                  31.0            7.0            10.0   \n",
       "2      2129.0      370.0                   3.0            3.0             4.0   \n",
       "3         1.0       73.0                   0.0            0.0             1.0   \n",
       "4        43.0       10.0                   1.0            0.0             0.0   \n",
       "\n",
       "   Dreason_Locust  Dreason_Insects  Dreason_Toolittle_rain  \\\n",
       "0             0.0              4.0                    12.0   \n",
       "1            37.0            223.0                   343.0   \n",
       "2             2.0            764.0                  1259.0   \n",
       "3             0.0              0.0                     0.0   \n",
       "4             2.0             15.0                    25.0   \n",
       "\n",
       "   Dreason_Toomuch_rain  Dreason_Wild_animals  Dreason_Birds  Dreason_Hail  \\\n",
       "0                   0.0                   1.0            0.0           2.0   \n",
       "1                  37.0                   8.0           60.0          79.0   \n",
       "2                  14.0                  12.0           11.0          29.0   \n",
       "3                   0.0                   0.0            0.0           0.0   \n",
       "4                   0.0                   0.0            0.0           0.0   \n",
       "\n",
       "   Dreason_Weeds  Dreason_ShortageSeed  Dreason_DepletionSoil  \\\n",
       "0            1.0                   1.0                    1.0   \n",
       "1            9.0                   0.0                   21.0   \n",
       "2            6.0                   0.0                    9.0   \n",
       "3            0.0                   0.0                    0.0   \n",
       "4            0.0                   0.0                    0.0   \n",
       "\n",
       "   Dreason_Security  Dreason_UseBadCrop  Dmeasure_Yes  Dmeasure_No  \\\n",
       "0                 0                 0.0          71.0          0.0   \n",
       "1                 0                15.0        1430.0         32.0   \n",
       "2                 0                13.0        2465.0         34.0   \n",
       "3                 0                 0.0          73.0          1.0   \n",
       "4                 0                 0.0          53.0          0.0   \n",
       "\n",
       "   Dmtype_Chemical  Dmtype_NonChemical  Dmtype_Both  Dmchem_Insecticide  \\\n",
       "0              0.0                70.0          1.0                 0.0   \n",
       "1             42.0              1303.0         85.0                20.0   \n",
       "2              7.0              2447.0         11.0                 0.0   \n",
       "3              0.0                73.0          0.0                 0.0   \n",
       "4              0.0                53.0          0.0                 0.0   \n",
       "\n",
       "   Dmchem_Herbicide  Dmchem_Fungicide  Dmchem_Insectcide_Her  \\\n",
       "0               0.0               0.0                    0.0   \n",
       "1              14.0               0.0                    4.0   \n",
       "2               2.0               0.0                    0.0   \n",
       "3               0.0               0.0                    0.0   \n",
       "4               0.0               0.0                    0.0   \n",
       "\n",
       "   Dmchem_Insectcide_Fun  Dmchem_Herbicide_Fung  Dmchem_All  Fert_Yes  \\\n",
       "0                    0.0                      0           0      22.0   \n",
       "1                    0.0                      0           0    1103.0   \n",
       "2                    0.0                      0           0    1809.0   \n",
       "3                    0.0                      0           0      52.0   \n",
       "4                    0.0                      0           0      15.0   \n",
       "\n",
       "   Fert_No  Ferttype_Natural  Ferttype_Chemical  Ferttype_Both  D22a_Urea  \\\n",
       "0     50.0              16.0                6.0            0.0        0.0   \n",
       "1    360.0             648.0              246.0          196.0       18.0   \n",
       "2    690.0            1110.0              401.0          297.0       58.0   \n",
       "3     22.0              43.0                9.0            0.0        0.0   \n",
       "4     38.0              15.0                0.0            0.0        0.0   \n",
       "\n",
       "   D22a_DAP  D22a_Urea_DAP  D22a_NPS  D22a_Urea_NPS  D22a_Mixed  D23_Manure  \\\n",
       "0       0.0            6.0       0.0            0.0           0        13.0   \n",
       "1      12.0          408.0       0.0            0.0           0       570.0   \n",
       "2     128.0          510.0       0.0            0.0           0       978.0   \n",
       "3       0.0            7.0       0.0            0.0           0        29.0   \n",
       "4       0.0            0.0       0.0            0.0           0        15.0   \n",
       "\n",
       "   D23_Compost  D23_Organic  D23_Manure_Compost  D23_Manure_Organic  \\\n",
       "0          1.0            0                 1.0                 0.0   \n",
       "1         81.0            0               177.0                 0.0   \n",
       "2        255.0            0               156.0                 0.0   \n",
       "3         10.0            0                 4.0                 0.0   \n",
       "4          0.0            0                 0.0                 0.0   \n",
       "\n",
       "   D23_Compost_Organic  D23_All    Fweight     Area  Production      Yield  \n",
       "0                    0      0.0   10983.27  293.375    2573.395   8.771692  \n",
       "1                    0      0.0  305751.82  567.000    3117.000   5.500000  \n",
       "2                    0      0.0  348274.08    4.260    4446.041  29.270582  \n",
       "3                    0      0.0    6040.31   45.000     303.000   6.800000  \n",
       "4                    0      0.0    7806.76  561.820    2896.110   5.150000  "
      ]
     },
     "execution_count": 4,
     "metadata": {},
     "output_type": "execute_result"
    }
   ],
   "source": [
    "FinWhHB = pd.read_csv('C:/Users/hp/FIN_DATA/FinWhHB.csv')\n",
    "FinWhHB.head()"
   ]
  },
  {
   "cell_type": "code",
   "execution_count": 5,
   "metadata": {},
   "outputs": [
    {
     "data": {
      "text/plain": [
       "((41, 64), (11, 64))"
      ]
     },
     "execution_count": 5,
     "metadata": {},
     "output_type": "execute_result"
    }
   ],
   "source": [
    "# Let's separate into train and test set\n",
    "# Remember to set the seed (random_state for this sklearn function)\n",
    "\n",
    "X_train, X_test, y_train, y_test = train_test_split(FinWhHB, FinWhHB.Production,\n",
    "                                                    test_size=0.2,\n",
    "                                                    random_state=0) # we are setting the seed here\n",
    "X_train.shape, X_test.shape"
   ]
  },
  {
   "cell_type": "code",
   "execution_count": 6,
   "metadata": {},
   "outputs": [
    {
     "name": "stderr",
     "output_type": "stream",
     "text": [
      "C:\\Users\\hp\\Anaconda3\\lib\\site-packages\\ipykernel_launcher.py:2: SettingWithCopyWarning: \n",
      "A value is trying to be set on a copy of a slice from a DataFrame.\n",
      "Try using .loc[row_indexer,col_indexer] = value instead\n",
      "\n",
      "See the caveats in the documentation: http://pandas.pydata.org/pandas-docs/stable/indexing.html#indexing-view-versus-copy\n",
      "  \n",
      "C:\\Users\\hp\\Anaconda3\\lib\\site-packages\\ipykernel_launcher.py:3: SettingWithCopyWarning: \n",
      "A value is trying to be set on a copy of a slice from a DataFrame.\n",
      "Try using .loc[row_indexer,col_indexer] = value instead\n",
      "\n",
      "See the caveats in the documentation: http://pandas.pydata.org/pandas-docs/stable/indexing.html#indexing-view-versus-copy\n",
      "  This is separate from the ipykernel package so we can avoid doing imports until\n"
     ]
    }
   ],
   "source": [
    "for var in ['PRECIP', 'TMPMAX', 'TMPMIN', 'RELHUM', 'WINDLY', 'SUNHRS', 'Fweight', 'Area', 'Production', 'Yield']:\n",
    "    X_train[var] = np.log(X_train[var])\n",
    "    X_test[var]= np.log(X_test[var])"
   ]
  },
  {
   "cell_type": "code",
   "execution_count": 7,
   "metadata": {},
   "outputs": [
    {
     "data": {
      "text/plain": [
       "[]"
      ]
     },
     "execution_count": 7,
     "metadata": {},
     "output_type": "execute_result"
    }
   ],
   "source": [
    "# check that test set does not contain null values in the engineered variables\n",
    "[var for var in ['PRECIP', 'TMPMAX', 'TMPMIN', 'RELHUM', 'WINDLY', 'SUNHRS', 'Seed_Not_Improved', 'Damage_Yes', 'Dmeasure_Yes', 'Dmtype_NonChemical', 'Fert_Yes', 'Fert_No', 'Ferttype_Natural', 'Ferttype_Chemical', 'D23_Manure', 'Fweight', 'Area', 'Production', 'Yield'] if X_test[var].isnull().sum()>0]"
   ]
  },
  {
   "cell_type": "code",
   "execution_count": 8,
   "metadata": {},
   "outputs": [
    {
     "data": {
      "text/plain": [
       "[]"
      ]
     },
     "execution_count": 8,
     "metadata": {},
     "output_type": "execute_result"
    }
   ],
   "source": [
    "# same for train set\n",
    "[var for var in ['PRECIP', 'TMPMAX', 'TMPMIN', 'RELHUM', 'WINDLY', 'SUNHRS', 'Seed_Not_Improved', 'Damage_Yes', 'Dmeasure_Yes', 'Dmtype_NonChemical', 'Fert_Yes', 'Fert_No', 'Ferttype_Natural', 'Ferttype_Chemical', 'D23_Manure', 'Fweight', 'Area', 'Production', 'Yield'] if X_train[var].isnull().sum()>0]"
   ]
  },
  {
   "cell_type": "code",
   "execution_count": 9,
   "metadata": {},
   "outputs": [
    {
     "data": {
      "image/png": "[encoded data removed]",
      "text/plain": [
       "<Figure size 432x288 with 1 Axes>"
      ]
     },
     "metadata": {
      "needs_background": "light"
     },
     "output_type": "display_data"
    }
   ],
   "source": [
    "# let me show you what I mean by monotonic relationship between labels and target\n",
    "def analyse_vars(df, var):\n",
    "    df = df.copy()\n",
    "    df.groupby(var)['Production'].median().plot.bar()\n",
    "    plt.title(var)\n",
    "    plt.ylabel('Production')\n",
    "    plt.show()\n",
    "    \n",
    "\n",
    "analyse_vars(X_train, 'Zone')"
   ]
  },
  {
   "cell_type": "code",
   "execution_count": 10,
   "metadata": {},
   "outputs": [
    {
     "data": {
      "image/png": "[encoded data removed]",
      "text/plain": [
       "<Figure size 432x288 with 1 Axes>"
      ]
     },
     "metadata": {
      "needs_background": "light"
     },
     "output_type": "display_data"
    }
   ],
   "source": [
    "analyse_vars(X_train, 'Year')"
   ]
  },
  {
   "cell_type": "code",
   "execution_count": 11,
   "metadata": {},
   "outputs": [
    {
     "data": {
      "text/plain": [
       "62"
      ]
     },
     "execution_count": 11,
     "metadata": {},
     "output_type": "execute_result"
    }
   ],
   "source": [
    "train_vars = [var for var in X_train.columns if var not in ['Year', 'Production']]\n",
    "len(train_vars)"
   ]
  },
  {
   "cell_type": "code",
   "execution_count": 12,
   "metadata": {},
   "outputs": [
    {
     "data": {
      "text/plain": [
       "0     8.399769\n",
       "1     8.699784\n",
       "2     8.468656\n",
       "3     8.399769\n",
       "4     6.750165\n",
       "5     6.237230\n",
       "6     8.399769\n",
       "7     8.468656\n",
       "8     8.399769\n",
       "9     8.399769\n",
       "10    8.468656\n",
       "11    8.699784\n",
       "12    8.699784\n",
       "13    7.954299\n",
       "14    8.699784\n",
       "15    7.852981\n",
       "16    8.699784\n",
       "17    7.852981\n",
       "18    8.468656\n",
       "19    7.852981\n",
       "20    9.026963\n",
       "21    8.468656\n",
       "22    8.468656\n",
       "23    8.399769\n",
       "24    8.468656\n",
       "25    8.044626\n",
       "26    7.852981\n",
       "27    8.399769\n",
       "28    7.083262\n",
       "29    8.399769\n",
       "30    8.699784\n",
       "31    6.286017\n",
       "32    8.468656\n",
       "33    8.699784\n",
       "34    8.468656\n",
       "35    8.699784\n",
       "36    7.852981\n",
       "37    5.713733\n",
       "38    7.852981\n",
       "39    8.699784\n",
       "40    7.852981\n",
       "Name: Production, dtype: float64"
      ]
     },
     "execution_count": 12,
     "metadata": {},
     "output_type": "execute_result"
    }
   ],
   "source": [
    "X_train['Production'].reset_index(drop=True)"
   ]
  },
  {
   "cell_type": "code",
   "execution_count": 13,
   "metadata": {},
   "outputs": [],
   "source": [
    "# fit scaler\n",
    "scaler = MinMaxScaler() # create an instance\n",
    "scaler.fit(X_train[train_vars]) #  fit  the scaler to the train set for later use\n",
    "\n",
    "# transform the train and test set, and add on the Id and SalePrice variables\n",
    "X_train = pd.concat([X_train[['Production']].reset_index(drop=True),\n",
    "                    pd.DataFrame(scaler.transform(X_train[train_vars]), columns=train_vars)],\n",
    "                    axis=1)\n",
    "\n",
    "X_test = pd.concat([X_test[['Production']].reset_index(drop=True),\n",
    "                    pd.DataFrame(scaler.transform(X_test[train_vars]), columns=train_vars)],\n",
    "                    axis=1)"
   ]
  },
  {
   "cell_type": "code",
   "execution_count": 14,
   "metadata": {},
   "outputs": [
    {
     "data": {
      "text/plain": [
       "Production                0\n",
       "Unnamed: 0                0\n",
       "Zone                      0\n",
       "PRECIP                    0\n",
       "TMPMAX                    0\n",
       "TMPMIN                    0\n",
       "RELHUM                    0\n",
       "WINDLY                    0\n",
       "SUNHRS                    0\n",
       "Irrg_Yes                  0\n",
       "Irrg_No                   0\n",
       "Seed_Improved             0\n",
       "Seed_Not_Improved         0\n",
       "Damage_Yes                0\n",
       "Damage_No                 0\n",
       "Dreason_Crop_disease      0\n",
       "Dreason_Frost             0\n",
       "Dreason_Floods            0\n",
       "Dreason_Locust            0\n",
       "Dreason_Insects           0\n",
       "Dreason_Toolittle_rain    0\n",
       "Dreason_Toomuch_rain      0\n",
       "Dreason_Wild_animals      0\n",
       "Dreason_Birds             0\n",
       "Dreason_Hail              0\n",
       "Dreason_Weeds             0\n",
       "Dreason_ShortageSeed      0\n",
       "Dreason_DepletionSoil     0\n",
       "Dreason_Security          0\n",
       "Dreason_UseBadCrop        0\n",
       "                         ..\n",
       "Dmtype_NonChemical        0\n",
       "Dmtype_Both               0\n",
       "Dmchem_Insecticide        0\n",
       "Dmchem_Herbicide          0\n",
       "Dmchem_Fungicide          0\n",
       "Dmchem_Insectcide_Her     0\n",
       "Dmchem_Insectcide_Fun     0\n",
       "Dmchem_Herbicide_Fung     0\n",
       "Dmchem_All                0\n",
       "Fert_Yes                  0\n",
       "Fert_No                   0\n",
       "Ferttype_Natural          0\n",
       "Ferttype_Chemical         0\n",
       "Ferttype_Both             0\n",
       "D22a_Urea                 0\n",
       "D22a_DAP                  0\n",
       "D22a_Urea_DAP             0\n",
       "D22a_NPS                  0\n",
       "D22a_Urea_NPS             0\n",
       "D22a_Mixed                0\n",
       "D23_Manure                0\n",
       "D23_Compost               0\n",
       "D23_Organic               0\n",
       "D23_Manure_Compost        0\n",
       "D23_Manure_Organic        0\n",
       "D23_Compost_Organic       0\n",
       "D23_All                   0\n",
       "Fweight                   0\n",
       "Area                      0\n",
       "Yield                     0\n",
       "Length: 63, dtype: int64"
      ]
     },
     "execution_count": 14,
     "metadata": {},
     "output_type": "execute_result"
    }
   ],
   "source": [
    "X_train.isnull().sum()"
   ]
  },
  {
   "cell_type": "code",
   "execution_count": 15,
   "metadata": {},
   "outputs": [],
   "source": [
    "# capture the target\n",
    "y_train = X_train['Production']\n",
    "y_test = X_test['Production']\n",
    "\n",
    "# drop unnecessary variables from our training and testing sets\n",
    "X_train.drop(['Production'], axis=1, inplace=True)\n",
    "X_test.drop(['Production'], axis=1, inplace=True)"
   ]
  },
  {
   "cell_type": "code",
   "execution_count": 16,
   "metadata": {},
   "outputs": [],
   "source": [
    "X_train = X_train.iloc[:, 1:]"
   ]
  },
  {
   "cell_type": "code",
   "execution_count": 17,
   "metadata": {},
   "outputs": [],
   "source": [
    "X_test = X_test.iloc[:, 1:]"
   ]
  },
  {
   "cell_type": "code",
   "execution_count": 18,
   "metadata": {},
   "outputs": [
    {
     "data": {
      "text/plain": [
       "SelectFromModel(estimator=Lasso(alpha=0.005, copy_X=True, fit_intercept=True,\n",
       "                                max_iter=1000, normalize=False, positive=False,\n",
       "                                precompute=False, random_state=0,\n",
       "                                selection='cyclic', tol=0.0001,\n",
       "                                warm_start=False),\n",
       "                max_features=None, norm_order=1, prefit=False, threshold=None)"
      ]
     },
     "execution_count": 18,
     "metadata": {},
     "output_type": "execute_result"
    }
   ],
   "source": [
    "sel_ = SelectFromModel(Lasso(alpha=0.005, random_state=0)) # remember to set the seed, the random state in this function\n",
    "sel_.fit(X_train, y_train)"
   ]
  },
  {
   "cell_type": "code",
   "execution_count": 19,
   "metadata": {},
   "outputs": [
    {
     "data": {
      "text/plain": [
       "array([ True,  True,  True, False, False, False,  True, False, False,\n",
       "       False, False, False, False,  True, False, False, False, False,\n",
       "       False, False, False, False, False,  True, False, False, False,\n",
       "       False, False, False, False, False, False, False, False, False,\n",
       "       False, False, False, False, False, False, False, False, False,\n",
       "       False,  True, False, False, False, False, False, False, False,\n",
       "       False, False, False,  True, False,  True,  True])"
      ]
     },
     "execution_count": 19,
     "metadata": {},
     "output_type": "execute_result"
    }
   ],
   "source": [
    "# this command let's us visualise those features that were kept.\n",
    "# Kept features have a True indicator\n",
    "sel_.get_support()"
   ]
  },
  {
   "cell_type": "code",
   "execution_count": 20,
   "metadata": {},
   "outputs": [
    {
     "name": "stdout",
     "output_type": "stream",
     "text": [
      "total features: 61\n",
      "selected features: 10\n",
      "features with coefficients shrank to zero: 51\n"
     ]
    }
   ],
   "source": [
    "# let's print the number of total and selected features\n",
    "\n",
    "# this is how we can make a list of the selected features\n",
    "selected_feat = X_train.columns[(sel_.get_support())]\n",
    "\n",
    "# let's print some stats\n",
    "print('total features: {}'.format((X_train.shape[1])))\n",
    "print('selected features: {}'.format(len(selected_feat)))\n",
    "print('features with coefficients shrank to zero: {}'.format(\n",
    "    np.sum(sel_.estimator_.coef_ == 0)))"
   ]
  },
  {
   "cell_type": "code",
   "execution_count": 21,
   "metadata": {},
   "outputs": [
    {
     "data": {
      "text/plain": [
       "Index(['Zone', 'PRECIP', 'TMPMAX', 'SUNHRS', 'Dreason_Crop_disease',\n",
       "       'Dreason_Weeds', 'D22a_DAP', 'D23_All', 'Area', 'Yield'],\n",
       "      dtype='object')"
      ]
     },
     "execution_count": 21,
     "metadata": {},
     "output_type": "execute_result"
    }
   ],
   "source": [
    "# print the selected features\n",
    "selected_feat"
   ]
  },
  {
   "cell_type": "code",
   "execution_count": 22,
   "metadata": {},
   "outputs": [
    {
     "data": {
      "text/plain": [
       "Index(['Zone', 'PRECIP', 'TMPMAX', 'SUNHRS', 'Dreason_Crop_disease',\n",
       "       'Dreason_Weeds', 'D22a_DAP', 'D23_All', 'Area', 'Yield'],\n",
       "      dtype='object')"
      ]
     },
     "execution_count": 22,
     "metadata": {},
     "output_type": "execute_result"
    }
   ],
   "source": [
    "# this is an alternative way of identifying the selected features \n",
    "# based on the non-zero regularisation coefficients:\n",
    "selected_feats = X_train.columns[(sel_.estimator_.coef_ != 0).ravel().tolist()]\n",
    "selected_feats"
   ]
  },
  {
   "cell_type": "code",
   "execution_count": 24,
   "metadata": {},
   "outputs": [
    {
     "name": "stderr",
     "output_type": "stream",
     "text": [
      "C:\\Users\\hp\\Anaconda3\\lib\\site-packages\\ipykernel_launcher.py:1: FutureWarning: The signature of `Series.to_csv` was aligned to that of `DataFrame.to_csv`, and argument 'header' will change its default value from False to True: please pass an explicit value to suppress this warning.\n",
      "  \"\"\"Entry point for launching an IPython kernel.\n"
     ]
    }
   ],
   "source": [
    "pd.Series(selected_feats).to_csv('C:/Users/hp/FIN_DATA/selected_featuresWhHB.csv', index=False)"
   ]
  },
  {
   "cell_type": "code",
   "execution_count": 26,
   "metadata": {},
   "outputs": [
    {
     "data": {
      "text/plain": [
       "['Zone',\n",
       " 'PRECIP',\n",
       " 'TMPMAX',\n",
       " 'SUNHRS',\n",
       " 'Dreason_Crop_disease',\n",
       " 'Dreason_Weeds',\n",
       " 'D22a_DAP',\n",
       " 'D23_All',\n",
       " 'Area',\n",
       " 'Yield',\n",
       " 'Irrg_No']"
      ]
     },
     "execution_count": 26,
     "metadata": {},
     "output_type": "execute_result"
    }
   ],
   "source": [
    "# load selected features\n",
    "# we selected the features in the previous lecture / notebook\n",
    "# if you haven't done so, go ahead and visit the previous lecture to find out how to select\n",
    "# the features\n",
    "\n",
    "features = pd.read_csv('C:/Users/hp/FIN_DATA/selected_featuresWhHB.csv', header=None)\n",
    "features = [x for x in features[0]] \n",
    "\n",
    "# here I will add this last feature, even though it was not selected in our previous step,\n",
    "# because it needs key feature engineering steps that I want to discuss further during the deployment\n",
    "# part of the course. \n",
    "\n",
    "features = features + ['Irrg_No'] \n",
    "\n",
    "features"
   ]
  },
  {
   "cell_type": "code",
   "execution_count": 27,
   "metadata": {},
   "outputs": [],
   "source": [
    "\n",
    "# reduce the train and test set to the desired features\n",
    "\n",
    "X_train = X_train[features]\n",
    "X_test = X_test[features]"
   ]
  },
  {
   "cell_type": "code",
   "execution_count": 28,
   "metadata": {},
   "outputs": [
    {
     "data": {
      "text/plain": [
       "Lasso(alpha=0.005, copy_X=True, fit_intercept=True, max_iter=1000,\n",
       "      normalize=False, positive=False, precompute=False, random_state=0,\n",
       "      selection='cyclic', tol=0.0001, warm_start=False)"
      ]
     },
     "execution_count": 28,
     "metadata": {},
     "output_type": "execute_result"
    }
   ],
   "source": [
    "# train the model\n",
    "lin_model = Lasso(alpha=0.005, random_state=0) # remember to set the random_state / seed\n",
    "lin_model.fit(X_train, y_train)"
   ]
  },
  {
   "cell_type": "code",
   "execution_count": 29,
   "metadata": {},
   "outputs": [
    {
     "name": "stdout",
     "output_type": "stream",
     "text": [
      "linear train mse: 818630.8864117317\n",
      "linear train rmse: 904.7822314854176\n",
      "\n",
      "linear test mse: 61891043.88546398\n",
      "linear test rmse: 7867.086111481429\n",
      "\n",
      "Average house price:  4446.041000000002\n"
     ]
    }
   ],
   "source": [
    "# evaluate the model:\n",
    "# remember that we log transformed the output  in our feature engineering notebook / lecture.\n",
    "\n",
    "# In order to get the true performance of the Lasso\n",
    "# we need to transform both the target and the predictions\n",
    "# back to the original agriculture values.\n",
    "\n",
    "# We will evaluate performance using the mean squared error and the\n",
    "# root of the mean squared error\n",
    "\n",
    "pred = lin_model.predict(X_train)\n",
    "print('linear train mse: {}'.format(mean_squared_error(np.exp(y_train), np.exp(pred))))\n",
    "print('linear train rmse: {}'.format(sqrt(mean_squared_error(np.exp(y_train), np.exp(pred)))))\n",
    "print()\n",
    "pred = lin_model.predict(X_test)\n",
    "print('linear test mse: {}'.format(mean_squared_error(np.exp(y_test), np.exp(pred))))\n",
    "print('linear test rmse: {}'.format(sqrt(mean_squared_error(np.exp(y_test), np.exp(pred)))))\n",
    "print()\n",
    "print('Average house price: ', np.exp(y_train).median())"
   ]
  },
  {
   "cell_type": "code",
   "execution_count": 30,
   "metadata": {},
   "outputs": [
    {
     "data": {
      "text/plain": [
       "Text(0.5, 1.0, 'Evaluation of Lasso Predictions')"
      ]
     },
     "execution_count": 30,
     "metadata": {},
     "output_type": "execute_result"
    },
    {
     "data": {
      "image/png": "[encoded data removed]",
      "text/plain": [
       "<Figure size 432x288 with 1 Axes>"
      ]
     },
     "metadata": {
      "needs_background": "light"
     },
     "output_type": "display_data"
    }
   ],
   "source": [
    "# let's evaluate our predictions respect to the original price\n",
    "plt.scatter(y_test, lin_model.predict(X_test))\n",
    "plt.xlabel('True Production')\n",
    "plt.ylabel('Predicted Production')\n",
    "plt.title('Evaluation of Lasso Predictions')"
   ]
  },
  {
   "cell_type": "code",
   "execution_count": 31,
   "metadata": {},
   "outputs": [
    {
     "data": {
      "text/plain": [
       "<matplotlib.axes._subplots.AxesSubplot at 0x217f9247ac8>"
      ]
     },
     "execution_count": 31,
     "metadata": {},
     "output_type": "execute_result"
    },
    {
     "data": {
      "image/png": "[encoded data removed]",
      "text/plain": [
       "<Figure size 432x288 with 1 Axes>"
      ]
     },
     "metadata": {
      "needs_background": "light"
     },
     "output_type": "display_data"
    }
   ],
   "source": [
    "# let's evaluate the distribution of the errors: \n",
    "# they should be fairly normally distributed\n",
    "\n",
    "errors = y_test - lin_model.predict(X_test)\n",
    "errors.hist(bins=15)"
   ]
  },
  {
   "cell_type": "code",
   "execution_count": 32,
   "metadata": {},
   "outputs": [
    {
     "data": {
      "text/plain": [
       "Text(0.5, 1.0, 'Feature Importance')"
      ]
     },
     "execution_count": 32,
     "metadata": {},
     "output_type": "execute_result"
    },
    {
     "data": {
      "image/png": "[encoded data removed]",
      "text/plain": [
       "<Figure size 1296x432 with 1 Axes>"
      ]
     },
     "metadata": {
      "needs_background": "light"
     },
     "output_type": "display_data"
    }
   ],
   "source": [
    "# Finally, just for fun, let's look at the feature importance\n",
    "\n",
    "importance = pd.Series(np.abs(lin_model.coef_.ravel()))\n",
    "importance.index = features\n",
    "importance.sort_values(inplace=True, ascending=False)\n",
    "importance.plot.bar(figsize=(18,6))\n",
    "plt.ylabel('Lasso Coefficients')\n",
    "plt.title('Feature Importance')"
   ]
  },
  {
   "cell_type": "code",
   "execution_count": null,
   "metadata": {},
   "outputs": [],
   "source": []
  }
 ],
 "metadata": {
  "kernelspec": {
   "display_name": "Python 3",
   "language": "python",
   "name": "python3"
  },
  "language_info": {
   "codemirror_mode": {
    "name": "ipython",
    "version": 3
   },
   "file_extension": ".py",
   "mimetype": "text/x-python",
   "name": "python",
   "nbconvert_exporter": "python",
   "pygments_lexer": "ipython3",
   "version": "3.7.3"
  }
 },
 "nbformat": 4,
 "nbformat_minor": 2
}
